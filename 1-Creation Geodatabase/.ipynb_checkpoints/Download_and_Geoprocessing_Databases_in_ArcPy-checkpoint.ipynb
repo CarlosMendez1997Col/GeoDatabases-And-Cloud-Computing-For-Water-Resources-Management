{
 "cells": [
  {
   "cell_type": "markdown",
   "metadata": {},
   "source": [
    "# Download and Geoprocessing Databases in ArcGIS API For Python\n",
    "---\n",
    "\n",
    "> Water Resources Management using PostgreSQL and PgAdmin4\n",
    "\n",
    "> Area of Interest (South America)\n",
    "\n",
    "> Developed by MSc Carlos Mendez\n",
    "\n",
    "MOST TABLES AND DATASETS USED:\n",
    "\n",
    "4. HydroSHEDS [Url Data](https://www.hydrosheds.org/products/hydrosheds)\n",
    "\n",
    "8. Global Lakes and Wetlands Database (GLWD) [Url Data](https://www.hydrosheds.org/products/glwd)\n",
    "\n",
    "9. HydroWASTE [Url Data](https://www.hydrosheds.org/products/hydrowaste)\n",
    "\n",
    "10. Global River Classification (GloRiC) [Url Data](https://www.hydrosheds.org/products/gloric)\n",
    "\n",
    "11. Lake TEMP [Url Data](https://www.hydrosheds.org/products/laketemp)\n",
    "\n",
    "12. Global Power Plant Database (GPPD) [Url Data](https://datasets.wri.org/datasets/global-power-plant-database)"
   ]
  },
  {
   "cell_type": "markdown",
   "metadata": {},
   "source": [
    "# Import packages and libraries"
   ]
  },
  {
   "cell_type": "code",
   "execution_count": 1,
   "metadata": {},
   "outputs": [],
   "source": [
    "from arcgis.map.renderers import (ClassBreaksRenderer, ClassBreakInfo, SizeInfoVisualVariable)\n",
    "import numpy as np\n",
    "import pandas as pd\n",
    "import os\n",
    "\n",
    "from IPython.display import Image, HTML\n",
    "\n",
    "from arcgis.gis import GIS\n",
    "from arcgis.features import FeatureLayer, FeatureLayerCollection\n",
    "from arcgis.geometry import SpatialReference\n",
    "\n",
    "import arcpy\n",
    "from arcpy.sa import*\n",
    "from arcpy.ia import*\n",
    "from arcpy import env\n",
    "from arcgis.raster.functions import *\n",
    "\n",
    "# connect to GIS\n",
    "from arcgis.gis import GIS\n",
    "from arcgis.geometry import SpatialReference"
   ]
  },
  {
   "cell_type": "markdown",
   "metadata": {},
   "source": [
    "# Access and Login into ArcGIS Account"
   ]
  },
  {
   "cell_type": "code",
   "execution_count": 2,
   "metadata": {},
   "outputs": [
    {
     "name": "stdin",
     "output_type": "stream",
     "text": [
      "Enter username:  Camendezv_UDFJC\n",
      "Enter your password:  ········\n"
     ]
    }
   ],
   "source": [
    "# Prompt user to provide username and password\n",
    "import getpass\n",
    "username = input('Enter username: ')\n",
    "password = getpass.getpass(\"Enter your password: \") \n",
    "gis = GIS(\"https://udistritalfjc.maps.arcgis.com/home\", username, password)"
   ]
  },
  {
   "cell_type": "markdown",
   "metadata": {},
   "source": [
    "# Definition Workspace or Directory"
   ]
  },
  {
   "cell_type": "code",
   "execution_count": 5,
   "metadata": {},
   "outputs": [
    {
     "data": {
      "text/plain": [
       "'C:\\\\Users\\\\USUARIO\\\\Desktop\\\\Geodatabase'"
      ]
     },
     "execution_count": 5,
     "metadata": {},
     "output_type": "execute_result"
    }
   ],
   "source": [
    "## Enter the “path” where you downloaded the files from Google Drive to your local computer.\n",
    "\n",
    "# Url to download the data in Google Drive\n",
    "# https://drive.google.com/drive/folders/1_qdQxdW1m_f4KFcEv7-rXZjpUwI6mgyh?usp=sharing\n",
    "\n",
    "path = os.chdir(r'C:\\Users\\USUARIO\\Desktop\\Geodatabase')\n",
    "path = os.getcwd()\n",
    "path"
   ]
  },
  {
   "cell_type": "markdown",
   "metadata": {},
   "source": [
    "#### Create a Geodatabase"
   ]
  },
  {
   "cell_type": "code",
   "execution_count": 6,
   "metadata": {},
   "outputs": [
    {
     "name": "stdout",
     "output_type": "stream",
     "text": [
      "File Geodatabase 'Geodatabase_SA.gdb' created at: C:\\Users\\USUARIO\\Desktop\\Geodatabase\\Geodatabase_SA.gdb\n"
     ]
    }
   ],
   "source": [
    "gdb_water = \"Geodatabase_SA.gdb\"\n",
    "arcpy.CreateFileGDB_management(path, gdb_water)\n",
    "print(f\"File Geodatabase '{gdb_water}' created at: {os.path.join(path, gdb_water)}\")"
   ]
  },
  {
   "cell_type": "markdown",
   "metadata": {},
   "source": [
    "## 4. HydroSHEDS"
   ]
  },
  {
   "cell_type": "markdown",
   "metadata": {},
   "source": [
    "### Void Filled DEM"
   ]
  },
  {
   "cell_type": "code",
   "execution_count": 7,
   "metadata": {},
   "outputs": [
    {
     "data": {
      "text/html": [
       "<div class='gpresult'><h2 class='msg-title'>Messages</h2><div id='messages'>Start Time: Friday, September 12, 2025 10:46:57 PM<br>Succeeded at Friday, September 12, 2025 10:48:52 PM (Elapsed Time: 1 minutes 54 seconds)<br></div><div id = 'default' /></div></div>"
      ],
      "text/plain": [
       "<Result 'C:\\\\Users\\\\USUARIO\\\\Desktop\\\\Geodatabase\\\\Geodatabase_SA.gdb\\\\SA_HydroSHEDS_Void_Dem'>"
      ]
     },
     "execution_count": 7,
     "metadata": {},
     "output_type": "execute_result"
    }
   ],
   "source": [
    "arcpy.conversion.RasterToPolygon(\n",
    "    in_raster=r\"C:\\Users\\USUARIO\\Desktop\\Geodatabase\\Geodatabase\\hyd_sa_dem_30s.tif\",\n",
    "    out_polygon_features=r\"C:\\Users\\USUARIO\\Desktop\\Geodatabase\\Geodatabase_SA.gdb\\SA_HydroSHEDS_Void_Dem\",\n",
    "    simplify=\"SIMPLIFY\",\n",
    "    raster_field=\"Value\",\n",
    "    create_multipart_features=\"MULTIPLE_OUTER_PART\",\n",
    "    max_vertices_per_feature=None\n",
    ")"
   ]
  },
  {
   "cell_type": "code",
   "execution_count": 8,
   "metadata": {},
   "outputs": [
    {
     "data": {
      "text/html": [
       "<div class='gpresult'><h2 class='msg-title'>Messages</h2><div id='messages'>Start Time: Friday, September 12, 2025 10:50:52 PM<br>Succeeded at Friday, September 12, 2025 10:50:56 PM (Elapsed Time: 4.04 seconds)<br></div><div id = 'default' /></div></div>"
      ],
      "text/plain": [
       "<Result 'C:\\\\Users\\\\USUARIO\\\\Desktop\\\\Geodatabase\\\\Geodatabase\\\\SA_hydroSHEDS_Void_DEM.shp'>"
      ]
     },
     "execution_count": 8,
     "metadata": {},
     "output_type": "execute_result"
    }
   ],
   "source": [
    "arcpy.conversion.ExportFeatures(\n",
    "    in_features=r\"C:\\Users\\USUARIO\\Desktop\\Geodatabase\\Geodatabase_SA.gdb\\SA_HydroSHEDS_Void_Dem\",\n",
    "    out_features=r\"C:\\Users\\USUARIO\\Desktop\\Geodatabase\\Geodatabase\\SA_hydroSHEDS_Void_DEM.shp\",\n",
    "    where_clause=\"\",\n",
    "    use_field_alias_as_name=\"NOT_USE_ALIAS\",\n",
    "    field_mapping=r'Id \"Id\" true true false 4 Long 0 0,First,#,C:\\Users\\USUARIO\\Desktop\\Geodatabase\\Geodatabase_SA.gdb\\SA_HydroSHEDS_Void_Dem,Id,-1,-1;gridcode \"gridcode\" true true false 4 Long 0 0,First,#,C:\\Users\\USUARIO\\Desktop\\Geodatabase\\Geodatabase_SA.gdb\\SA_HydroSHEDS_Void_Dem,gridcode,-1,-1;Shape_Length \"Shape_Length\" false true true 8 Double 0 0,First,#,C:\\Users\\USUARIO\\Desktop\\Geodatabase\\Geodatabase_SA.gdb\\SA_HydroSHEDS_Void_Dem,Shape_Length,-1,-1;Shape_Area \"Shape_Area\" false true true 8 Double 0 0,First,#,C:\\Users\\USUARIO\\Desktop\\Geodatabase\\Geodatabase_SA.gdb\\SA_HydroSHEDS_Void_Dem,Shape_Area,-1,-1',\n",
    "    sort_field=None\n",
    ")"
   ]
  },
  {
   "cell_type": "markdown",
   "metadata": {},
   "source": [
    "### Flow Direction"
   ]
  },
  {
   "cell_type": "code",
   "execution_count": 9,
   "metadata": {},
   "outputs": [
    {
     "data": {
      "text/html": [
       "<div class='gpresult'><h2 class='msg-title'>Messages</h2><div id='messages'>Start Time: Friday, September 12, 2025 10:53:43 PM<br>Succeeded at Friday, September 12, 2025 10:55:49 PM (Elapsed Time: 2 minutes 6 seconds)<br></div><div id = 'default' /></div></div>"
      ],
      "text/plain": [
       "<Result 'C:\\\\Users\\\\USUARIO\\\\Desktop\\\\Geodatabase\\\\Geodatabase_SA.gdb\\\\SA_HydroSHEDS_Flow_Direction'>"
      ]
     },
     "execution_count": 9,
     "metadata": {},
     "output_type": "execute_result"
    }
   ],
   "source": [
    "arcpy.conversion.RasterToPolygon(\n",
    "    in_raster=r\"C:\\Users\\USUARIO\\Desktop\\Geodatabase\\Geodatabase\\hyd_sa_dir_30s.tif\",\n",
    "    out_polygon_features=r\"C:\\Users\\USUARIO\\Desktop\\Geodatabase\\Geodatabase_SA.gdb\\SA_HydroSHEDS_Flow_Direction\",\n",
    "    simplify=\"SIMPLIFY\",\n",
    "    raster_field=\"Value\",\n",
    "    create_multipart_features=\"MULTIPLE_OUTER_PART\",\n",
    "    max_vertices_per_feature=None\n",
    ")"
   ]
  },
  {
   "cell_type": "code",
   "execution_count": 10,
   "metadata": {},
   "outputs": [
    {
     "data": {
      "text/html": [
       "<div class='gpresult'><h2 class='msg-title'>Messages</h2><div id='messages'>Start Time: Friday, September 12, 2025 11:02:42 PM<br>Succeeded at Friday, September 12, 2025 11:02:46 PM (Elapsed Time: 3.48 seconds)<br></div><div id = 'default' /></div></div>"
      ],
      "text/plain": [
       "<Result 'C:\\\\Users\\\\USUARIO\\\\Desktop\\\\Geodatabase\\\\Geodatabase\\\\SA_hydroSHEDS_Flow_Direction.shp'>"
      ]
     },
     "execution_count": 10,
     "metadata": {},
     "output_type": "execute_result"
    }
   ],
   "source": [
    "arcpy.conversion.ExportFeatures(\n",
    "    in_features=r\"C:\\Users\\USUARIO\\Desktop\\Geodatabase\\Geodatabase_SA.gdb\\SA_HydroSHEDS_Flow_Direction\",\n",
    "    out_features=r\"C:\\Users\\USUARIO\\Desktop\\Geodatabase\\Geodatabase\\SA_hydroSHEDS_Flow_Direction.shp\",\n",
    "    where_clause=\"\",\n",
    "    use_field_alias_as_name=\"NOT_USE_ALIAS\",\n",
    "    field_mapping=r'Id \"Id\" true true false 4 Long 0 0,First,#,C:\\Users\\USUARIO\\Desktop\\Geodatabase\\Geodatabase_SA.gdb\\SA_HydroSHEDS_Flow_Direction,Id,-1,-1;gridcode \"gridcode\" true true false 4 Long 0 0,First,#,C:\\Users\\USUARIO\\Desktop\\Geodatabase\\Geodatabase_SA.gdb\\SA_HydroSHEDS_Flow_Direction,gridcode,-1,-1;Shape_Length \"Shape_Length\" false true true 8 Double 0 0,First,#,C:\\Users\\USUARIO\\Desktop\\Geodatabase\\Geodatabase_SA.gdb\\SA_HydroSHEDS_Flow_Direction,Shape_Length,-1,-1;Shape_Area \"Shape_Area\" false true true 8 Double 0 0,First,#,C:\\Users\\USUARIO\\Desktop\\Geodatabase\\Geodatabase_SA.gdb\\SA_HydroSHEDS_Flow_Direction,Shape_Area,-1,-1',\n",
    "    sort_field=None\n",
    ")"
   ]
  },
  {
   "cell_type": "markdown",
   "metadata": {},
   "source": [
    "### Flow Accumulation"
   ]
  },
  {
   "cell_type": "code",
   "execution_count": 12,
   "metadata": {},
   "outputs": [
    {
     "data": {
      "text/html": [
       "<div class='gpresult'><h2 class='msg-title'>Messages</h2><div id='messages'>Start Time: Friday, September 12, 2025 11:09:19 PM<br>Succeeded at Friday, September 12, 2025 11:10:19 PM (Elapsed Time: 1 minutes 0 seconds)<br></div><div id = 'default' /></div></div>"
      ],
      "text/plain": [
       "<Result 'C:\\\\Users\\\\USUARIO\\\\Desktop\\\\Geodatabase\\\\Geodatabase_SA.gdb\\\\SA_HydroSHEDS_Flow_Accumulation'>"
      ]
     },
     "execution_count": 12,
     "metadata": {},
     "output_type": "execute_result"
    }
   ],
   "source": [
    "arcpy.conversion.RasterToPolygon(\n",
    "    in_raster=r\"C:\\Users\\USUARIO\\Desktop\\Geodatabase\\Geodatabase\\hyd_sa_acc_30s.tif\",\n",
    "    out_polygon_features=r\"C:\\Users\\USUARIO\\Desktop\\Geodatabase\\Geodatabase_SA.gdb\\SA_HydroSHEDS_Flow_Accumulation\",\n",
    "    simplify=\"NO_SIMPLIFY\",\n",
    "    raster_field=\"Value\",\n",
    "    create_multipart_features=\"MULTIPLE_OUTER_PART\",\n",
    "    max_vertices_per_feature=None\n",
    ")"
   ]
  },
  {
   "cell_type": "code",
   "execution_count": 13,
   "metadata": {},
   "outputs": [
    {
     "data": {
      "text/html": [
       "<div class='gpresult'><h2 class='msg-title'>Messages</h2><div id='messages'>Start Time: Friday, September 12, 2025 11:17:33 PM<br>Succeeded at Friday, September 12, 2025 11:17:38 PM (Elapsed Time: 5.22 seconds)<br></div><div id = 'default' /></div></div>"
      ],
      "text/plain": [
       "<Result 'C:\\\\Users\\\\USUARIO\\\\Desktop\\\\Geodatabase\\\\Geodatabase\\\\SA_hydroSHEDS_Flow_Accumulation.shp'>"
      ]
     },
     "execution_count": 13,
     "metadata": {},
     "output_type": "execute_result"
    }
   ],
   "source": [
    "arcpy.conversion.ExportFeatures(\n",
    "    in_features=r\"C:\\Users\\USUARIO\\Desktop\\Geodatabase\\Geodatabase_SA.gdb\\SA_HydroSHEDS_Flow_Accumulation\",\n",
    "    out_features=r\"C:\\Users\\USUARIO\\Desktop\\Geodatabase\\Geodatabase\\SA_hydroSHEDS_Flow_Accumulation.shp\",\n",
    "    where_clause=\"\",\n",
    "    use_field_alias_as_name=\"NOT_USE_ALIAS\",\n",
    "    field_mapping=r'Id \"Id\" true true false 4 Long 0 0,First,#,C:\\Users\\USUARIO\\Desktop\\Geodatabase\\Geodatabase_SA.gdb\\SA_HydroSHEDS_Flow_Accumulation,Id,-1,-1;gridcode \"gridcode\" true true false 4 Long 0 0,First,#,C:\\Users\\USUARIO\\Desktop\\Geodatabase\\Geodatabase_SA.gdb\\SA_HydroSHEDS_Flow_Accumulation,gridcode,-1,-1;Shape_Length \"Shape_Length\" false true true 8 Double 0 0,First,#,C:\\Users\\USUARIO\\Desktop\\Geodatabase\\Geodatabase_SA.gdb\\SA_HydroSHEDS_Flow_Accumulation,Shape_Length,-1,-1;Shape_Area \"Shape_Area\" false true true 8 Double 0 0,First,#,C:\\Users\\USUARIO\\Desktop\\Geodatabase\\Geodatabase_SA.gdb\\SA_HydroSHEDS_Flow_Accumulation,Shape_Area,-1,-1',\n",
    "    sort_field=None\n",
    ")"
   ]
  },
  {
   "cell_type": "markdown",
   "metadata": {},
   "source": [
    "### Flow Length Upstream"
   ]
  },
  {
   "cell_type": "code",
   "execution_count": null,
   "metadata": {},
   "outputs": [],
   "source": []
  },
  {
   "cell_type": "code",
   "execution_count": null,
   "metadata": {},
   "outputs": [],
   "source": []
  },
  {
   "cell_type": "code",
   "execution_count": null,
   "metadata": {},
   "outputs": [],
   "source": []
  },
  {
   "cell_type": "code",
   "execution_count": null,
   "metadata": {},
   "outputs": [],
   "source": []
  },
  {
   "cell_type": "markdown",
   "metadata": {},
   "source": [
    "### Flow Length Downstream"
   ]
  },
  {
   "cell_type": "code",
   "execution_count": null,
   "metadata": {},
   "outputs": [],
   "source": []
  },
  {
   "cell_type": "code",
   "execution_count": null,
   "metadata": {},
   "outputs": [],
   "source": []
  },
  {
   "cell_type": "code",
   "execution_count": null,
   "metadata": {},
   "outputs": [],
   "source": []
  },
  {
   "cell_type": "code",
   "execution_count": null,
   "metadata": {},
   "outputs": [],
   "source": []
  },
  {
   "cell_type": "markdown",
   "metadata": {},
   "source": [
    "## 8. Global Lakes and Wetlands Database (GLWD)"
   ]
  },
  {
   "cell_type": "code",
   "execution_count": null,
   "metadata": {},
   "outputs": [],
   "source": []
  },
  {
   "cell_type": "code",
   "execution_count": null,
   "metadata": {},
   "outputs": [],
   "source": []
  },
  {
   "cell_type": "code",
   "execution_count": null,
   "metadata": {},
   "outputs": [],
   "source": []
  },
  {
   "cell_type": "code",
   "execution_count": null,
   "metadata": {},
   "outputs": [],
   "source": []
  },
  {
   "cell_type": "markdown",
   "metadata": {},
   "source": [
    "## 9. HydroWASTE"
   ]
  },
  {
   "cell_type": "code",
   "execution_count": null,
   "metadata": {},
   "outputs": [],
   "source": []
  },
  {
   "cell_type": "code",
   "execution_count": null,
   "metadata": {},
   "outputs": [],
   "source": []
  },
  {
   "cell_type": "code",
   "execution_count": null,
   "metadata": {},
   "outputs": [],
   "source": []
  },
  {
   "cell_type": "code",
   "execution_count": null,
   "metadata": {},
   "outputs": [],
   "source": []
  },
  {
   "cell_type": "code",
   "execution_count": null,
   "metadata": {},
   "outputs": [],
   "source": []
  },
  {
   "cell_type": "markdown",
   "metadata": {},
   "source": [
    "## 10. Global River Classification (GloRiC)"
   ]
  },
  {
   "cell_type": "code",
   "execution_count": null,
   "metadata": {},
   "outputs": [],
   "source": []
  },
  {
   "cell_type": "code",
   "execution_count": null,
   "metadata": {},
   "outputs": [],
   "source": []
  },
  {
   "cell_type": "code",
   "execution_count": null,
   "metadata": {},
   "outputs": [],
   "source": []
  },
  {
   "cell_type": "code",
   "execution_count": null,
   "metadata": {},
   "outputs": [],
   "source": []
  },
  {
   "cell_type": "code",
   "execution_count": null,
   "metadata": {},
   "outputs": [],
   "source": []
  },
  {
   "cell_type": "markdown",
   "metadata": {},
   "source": [
    "## 11. Lake TEMP"
   ]
  },
  {
   "cell_type": "code",
   "execution_count": null,
   "metadata": {},
   "outputs": [],
   "source": []
  },
  {
   "cell_type": "code",
   "execution_count": null,
   "metadata": {},
   "outputs": [],
   "source": []
  },
  {
   "cell_type": "code",
   "execution_count": null,
   "metadata": {},
   "outputs": [],
   "source": []
  },
  {
   "cell_type": "code",
   "execution_count": null,
   "metadata": {},
   "outputs": [],
   "source": []
  },
  {
   "cell_type": "markdown",
   "metadata": {},
   "source": [
    "## 12. Global Power Plant Database (GPPD)"
   ]
  },
  {
   "cell_type": "code",
   "execution_count": null,
   "metadata": {},
   "outputs": [],
   "source": []
  },
  {
   "cell_type": "code",
   "execution_count": null,
   "metadata": {},
   "outputs": [],
   "source": []
  },
  {
   "cell_type": "code",
   "execution_count": null,
   "metadata": {},
   "outputs": [],
   "source": []
  },
  {
   "cell_type": "code",
   "execution_count": null,
   "metadata": {},
   "outputs": [],
   "source": []
  },
  {
   "cell_type": "code",
   "execution_count": null,
   "metadata": {},
   "outputs": [],
   "source": []
  }
 ],
 "metadata": {
  "kernelspec": {
   "display_name": "ArcGISPro",
   "language": "python",
   "name": "python3"
  },
  "language_info": {
   "file_extension": ".py",
   "mimetype": "text/x-python",
   "name": "python",
   "version": "3.11.10"
  }
 },
 "nbformat": 4,
 "nbformat_minor": 4
}
