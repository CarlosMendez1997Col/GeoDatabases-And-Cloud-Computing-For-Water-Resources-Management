{
  "nbformat": 4,
  "nbformat_minor": 0,
  "metadata": {
    "colab": {
      "provenance": [],
      "toc_visible": true
    },
    "kernelspec": {
      "name": "python3",
      "display_name": "Python 3"
    },
    "language_info": {
      "name": "python"
    }
  },
  "cells": [
    {
      "cell_type": "markdown",
      "source": [
        "# Download and Geoprocessing Databases in Google Colab\n",
        "\n",
        "---\n",
        "\n",
        "> Water Resources Management using PostgreSQL and PgAdmin4\n",
        "\n",
        "> Area of Interest (South America)\n",
        "\n",
        "> Developed by MSc Carlos Mendez\n",
        "\n",
        "MOST TABLES AND DATASETS USED:\n",
        "\n",
        "1. South America Countries and Boundary\n",
        "2. HydroSHEDS (Conditioned DEM)\n",
        "3. HydroBASINS (Level 1,2,3,4,5,6,7,8,9,10,11 and 12)\n",
        "4. HydroRIVERS\n",
        "5. HydroLAKES\n",
        "6. Global Lakes and Wetlands Database (GLWD)\n",
        "7. HydroWASTE\n",
        "8. Global River Classification (GloRiC)\n",
        "9. Lake TEMP\n",
        "10. Global Power Plant Database (GPPD)\n",
        "11. Firt Level Administrative Units (FLAU)\n",
        "12. Second Level Administrative Units (SLAU)\n"
      ],
      "metadata": {
        "id": "jS5REZuqCp7h"
      }
    },
    {
      "cell_type": "markdown",
      "source": [],
      "metadata": {
        "id": "FfAiJd6SCo-L"
      }
    },
    {
      "cell_type": "code",
      "source": [],
      "metadata": {
        "id": "XALuIv4hCn1y"
      },
      "execution_count": null,
      "outputs": []
    },
    {
      "cell_type": "code",
      "source": [],
      "metadata": {
        "id": "pkA_m181Cn9j"
      },
      "execution_count": null,
      "outputs": []
    },
    {
      "cell_type": "code",
      "source": [],
      "metadata": {
        "id": "x4cRCNsMCn_r"
      },
      "execution_count": null,
      "outputs": []
    }
  ]
}