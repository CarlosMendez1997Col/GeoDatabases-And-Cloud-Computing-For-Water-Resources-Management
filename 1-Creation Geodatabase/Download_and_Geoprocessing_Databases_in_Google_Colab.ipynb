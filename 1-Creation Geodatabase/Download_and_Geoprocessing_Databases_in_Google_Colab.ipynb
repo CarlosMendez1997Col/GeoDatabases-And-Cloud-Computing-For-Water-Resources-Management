{
  "nbformat": 4,
  "nbformat_minor": 0,
  "metadata": {
    "colab": {
      "provenance": [],
      "toc_visible": true,
      "include_colab_link": true
    },
    "kernelspec": {
      "name": "python3",
      "display_name": "Python 3"
    },
    "language_info": {
      "name": "python"
    }
  },
  "cells": [
    {
      "cell_type": "markdown",
      "metadata": {
        "id": "view-in-github",
        "colab_type": "text"
      },
      "source": [
        "<a href=\"https://colab.research.google.com/github/CarlosMendez1997Col/GeoDatabases-And-Cloud-Computing-For-Water-Resources-Management/blob/main/1-Creation%20Geodatabase/Download_and_Geoprocessing_Databases_in_Google_Colab.ipynb\" target=\"_parent\"><img src=\"https://colab.research.google.com/assets/colab-badge.svg\" alt=\"Open In Colab\"/></a>"
      ]
    },
    {
      "cell_type": "markdown",
      "source": [
        "# Download and Geoprocessing Databases in Google Colab\n",
        "\n",
        "---\n",
        "\n",
        "> Water Resources Management using PostgreSQL and PgAdmin4\n",
        "\n",
        "> Area of Interest (South America)\n",
        "\n",
        "> Developed by MSc Carlos Mendez\n",
        "\n",
        "TABLES AND DATASETS USED IN GOOGLE COLAB:\n",
        "\n",
        "1. South America Countries and Boundary [Url Data](https://international.ipums.org/international/gis.shtml)\n",
        "\n",
        "2. First Level Administrative Units (FLAU) [Url Data](https://www.geoboundaries.org/globalDownloads.html)\n",
        "\n",
        "3. Second Level Administrative Units (SLAU) [Url Data](https://www.geoboundaries.org/globalDownloads.html)\n",
        "\n",
        "4. HydroSHEDS [Url Data](https://www.hydrosheds.org/products/hydrosheds)\n",
        "\n",
        "5. HydroBASINS (Level 1 to 12) [Url Data](https://www.hydrosheds.org/products/hydrobasins)\n",
        "\n",
        "6. HydroRIVERS [Url Data](https://www.hydrosheds.org/products/hydrorivers)\n",
        "\n",
        "7. HydroLAKES [Url Data](https://www.hydrosheds.org/products/hydrolakes)\n"
      ],
      "metadata": {
        "id": "jS5REZuqCp7h"
      }
    },
    {
      "cell_type": "markdown",
      "source": [
        "## Install and import ArcGIS API for Python"
      ],
      "metadata": {
        "id": "4TqdzUt3LPmB"
      }
    },
    {
      "cell_type": "code",
      "source": [
        "# If you need to install any library, please delete commit and then install it\n",
        "#!pip install arcgis\n",
        "#!pip install geopandas\n",
        "!pip install rasterio\n",
        "#!pip install shapely"
      ],
      "metadata": {
        "id": "XALuIv4hCn1y",
        "colab": {
          "base_uri": "https://localhost:8080/"
        },
        "outputId": "7f69ecda-98ba-42ef-a529-d0b7e1d59acf"
      },
      "execution_count": 6,
      "outputs": [
        {
          "output_type": "stream",
          "name": "stdout",
          "text": [
            "Requirement already satisfied: rasterio in /usr/local/lib/python3.12/dist-packages (1.4.3)\n",
            "Requirement already satisfied: affine in /usr/local/lib/python3.12/dist-packages (from rasterio) (2.4.0)\n",
            "Requirement already satisfied: attrs in /usr/local/lib/python3.12/dist-packages (from rasterio) (25.3.0)\n",
            "Requirement already satisfied: certifi in /usr/local/lib/python3.12/dist-packages (from rasterio) (2025.8.3)\n",
            "Requirement already satisfied: click>=4.0 in /usr/local/lib/python3.12/dist-packages (from rasterio) (8.2.1)\n",
            "Requirement already satisfied: cligj>=0.5 in /usr/local/lib/python3.12/dist-packages (from rasterio) (0.7.2)\n",
            "Requirement already satisfied: numpy>=1.24 in /usr/local/lib/python3.12/dist-packages (from rasterio) (2.0.2)\n",
            "Requirement already satisfied: click-plugins in /usr/local/lib/python3.12/dist-packages (from rasterio) (1.1.1.2)\n",
            "Requirement already satisfied: pyparsing in /usr/local/lib/python3.12/dist-packages (from rasterio) (3.2.3)\n"
          ]
        }
      ]
    },
    {
      "cell_type": "markdown",
      "source": [
        "## Import libraries and packages"
      ],
      "metadata": {
        "id": "VLfsXYyiqS8S"
      }
    },
    {
      "cell_type": "code",
      "source": [
        "import numpy as np\n",
        "import pandas as pd\n",
        "import geopandas as gpd\n",
        "import rasterio\n",
        "import xarray as xr\n",
        "import matplotlib.pyplot as plt\n",
        "import math\n",
        "import zipfile\n",
        "import os\n",
        "import time\n",
        "from datetime import datetime as dt\n",
        "from osgeo import gdal, ogr, osr\n",
        "from shapely.geometry import box\n",
        "from google.colab import output\n",
        "output.enable_custom_widget_manager()"
      ],
      "metadata": {
        "id": "MTWR3vXCqaIc"
      },
      "execution_count": 2,
      "outputs": []
    },
    {
      "cell_type": "markdown",
      "source": [
        "## Import and extract Databases in your local computer\n",
        "\n"
      ],
      "metadata": {
        "id": "rOwlIqkzPVLB"
      }
    },
    {
      "cell_type": "markdown",
      "source": [
        "### Connect to Google Drive"
      ],
      "metadata": {
        "id": "ekOEKL_GpGvc"
      }
    },
    {
      "cell_type": "code",
      "source": [
        "import os\n",
        "os.makedirs('/content', exist_ok=True)\n",
        "from google.colab import drive\n",
        "drive.mount('/content/drive')"
      ],
      "metadata": {
        "id": "K9CYmNhAvobD",
        "colab": {
          "base_uri": "https://localhost:8080/"
        },
        "outputId": "f1c3e0ca-4d13-4f18-fdcd-4615f1a95659"
      },
      "execution_count": 3,
      "outputs": [
        {
          "output_type": "stream",
          "name": "stdout",
          "text": [
            "Mounted at /content/drive\n"
          ]
        }
      ]
    },
    {
      "cell_type": "code",
      "source": [
        "# Set Directory or WorkSpace\n",
        "%cd /content/drive/MyDrive/Geodatabase"
      ],
      "metadata": {
        "id": "kfn6S3QhrQig",
        "outputId": "f1a5f8e3-80f1-4f1f-ab9b-ba3b51fc06f5",
        "colab": {
          "base_uri": "https://localhost:8080/"
        }
      },
      "execution_count": 34,
      "outputs": [
        {
          "output_type": "stream",
          "name": "stdout",
          "text": [
            "/content/drive/MyDrive/Geodatabase\n"
          ]
        }
      ]
    },
    {
      "cell_type": "markdown",
      "source": [
        "### 1. South America Countries and Boundary (SACB)"
      ],
      "metadata": {
        "id": "zqOmhRjQBdZT"
      }
    },
    {
      "cell_type": "code",
      "source": [
        "!wget https://international.ipums.org/international/resources/gis/IPUMSI_world_release2024.zip"
      ],
      "metadata": {
        "id": "urnbsPHEsJDi",
        "outputId": "194d0a44-6a6e-45d9-cc22-8351b100776f",
        "colab": {
          "base_uri": "https://localhost:8080/"
        }
      },
      "execution_count": null,
      "outputs": [
        {
          "output_type": "stream",
          "name": "stdout",
          "text": [
            "--2025-09-11 14:29:02--  https://international.ipums.org/international/resources/gis/IPUMSI_world_release2024.zip\n",
            "Resolving international.ipums.org (international.ipums.org)... 128.101.163.176\n",
            "Connecting to international.ipums.org (international.ipums.org)|128.101.163.176|:443... connected.\n",
            "HTTP request sent, awaiting response... 200 OK\n",
            "Length: 61705330 (59M) [application/zip]\n",
            "Saving to: ‘IPUMSI_world_release2024.zip’\n",
            "\n",
            "IPUMSI_world_releas 100%[===================>]  58.85M  14.0MB/s    in 5.3s    \n",
            "\n",
            "2025-09-11 14:29:09 (11.1 MB/s) - ‘IPUMSI_world_release2024.zip’ saved [61705330/61705330]\n",
            "\n"
          ]
        }
      ]
    },
    {
      "cell_type": "code",
      "source": [
        "!unzip \"/content/drive/MyDrive/Geodatabase/IPUMSI_world_release2024.zip\" -d \"/content/drive/MyDrive/Geodatabase\""
      ],
      "metadata": {
        "colab": {
          "base_uri": "https://localhost:8080/"
        },
        "id": "i7XsP3TyAE4A",
        "outputId": "be5cee6f-f733-4bd8-a1a2-79ec483e15f6"
      },
      "execution_count": null,
      "outputs": [
        {
          "output_type": "stream",
          "name": "stdout",
          "text": [
            "Archive:  /content/drive/MyDrive/Geodatabase/IPUMSI_world_release2024.zip\n",
            " extracting: /content/drive/MyDrive/Geodatabase/IPUMSI_world_release2024.CPG  \n",
            "  inflating: /content/drive/MyDrive/Geodatabase/IPUMSI_world_release2024.dbf  \n",
            "  inflating: /content/drive/MyDrive/Geodatabase/IPUMSI_world_release2024.prj  \n",
            "  inflating: /content/drive/MyDrive/Geodatabase/IPUMSI_world_release2024.sbn  \n",
            "  inflating: /content/drive/MyDrive/Geodatabase/IPUMSI_world_release2024.sbx  \n",
            "  inflating: /content/drive/MyDrive/Geodatabase/IPUMSI_world_release2024.shp  \n",
            "  inflating: /content/drive/MyDrive/Geodatabase/IPUMSI_world_release2024.shp.xml  \n",
            "  inflating: /content/drive/MyDrive/Geodatabase/IPUMSI_world_release2024.shx  \n"
          ]
        }
      ]
    },
    {
      "cell_type": "code",
      "source": [
        "SACB = gpd.read_file('IPUMSI_world_release2024.shp')\n",
        "#SACB.head()\n",
        "\n",
        "SACB.drop(['OBJECTID','CNTRY_CODE','BPL_CODE'], axis=1, inplace=True)\n",
        "SACB.rename(columns={'CNTRY_NAME': 'Country'}, inplace=True)\n",
        "#SACB.info()\n",
        "\n",
        "SA_countries =  ['Argentina', 'Bolivia', 'Brazil', 'Chile', 'Colombia', 'Ecuador', 'Guyana', 'French Guiana', 'Paraguay', 'Peru', 'Suriname', 'Uruguay', 'Venezuela']\n",
        "SACB_SA = SACB[SACB['Country'].isin(SA_countries)]\n",
        "\n",
        "# If you want to verify the 14 countries of SA\n",
        "#SACB_SA.head(14)\n",
        "\n",
        "# If you want to display and visualize the 14 countries of SA\n",
        "#SACB_SA.plot(column='Country', figsize=(16,8))\n",
        "\n",
        "# Export data to Google Drive (.shp)\n",
        "output_path_SACB = '/content/drive/MyDrive/Geodatabase/SA_Countries.shp'\n",
        "SACB_SA.to_file(output_path_SACB)\n",
        "\n",
        "## Delete original files (zip and .shp) to reduce space and volume\n",
        "!rm '/content/drive/MyDrive/Geodatabase/IPUMSI_world_release2024.zip'\n",
        "\n",
        "shapefile_prefix = '/content/drive/MyDrive/Geodatabase/IPUMSI_world_release2024'\n",
        "\n",
        "# List of common shapefile extensions\n",
        "extensions = ['.CPG', '.dbf', '.prj', '.sbn', '.sbx', '.shp', '.shp.xml', '.shx']\n",
        "\n",
        "for ext in extensions:\n",
        "    file_path = shapefile_prefix + ext\n",
        "    if os.path.exists(file_path):\n",
        "            os.remove(file_path)\n",
        "            print(f\"Deleted: {file_path}\")\n",
        "    else:\n",
        "            print(f\"File not found: {file_path}\")\n"
      ],
      "metadata": {
        "colab": {
          "base_uri": "https://localhost:8080/"
        },
        "id": "JlGVcX5TIdST",
        "outputId": "99be5ffd-d632-49bf-882c-312c489e586e"
      },
      "execution_count": null,
      "outputs": [
        {
          "output_type": "stream",
          "name": "stdout",
          "text": [
            "Deleted: /content/drive/MyDrive/Geodatabase/IPUMSI_world_release2024.CPG\n",
            "Deleted: /content/drive/MyDrive/Geodatabase/IPUMSI_world_release2024.dbf\n",
            "Deleted: /content/drive/MyDrive/Geodatabase/IPUMSI_world_release2024.prj\n",
            "Deleted: /content/drive/MyDrive/Geodatabase/IPUMSI_world_release2024.sbn\n",
            "Deleted: /content/drive/MyDrive/Geodatabase/IPUMSI_world_release2024.sbx\n",
            "Deleted: /content/drive/MyDrive/Geodatabase/IPUMSI_world_release2024.shp\n",
            "Deleted: /content/drive/MyDrive/Geodatabase/IPUMSI_world_release2024.shp.xml\n",
            "Deleted: /content/drive/MyDrive/Geodatabase/IPUMSI_world_release2024.shx\n"
          ]
        }
      ]
    },
    {
      "cell_type": "markdown",
      "source": [
        "### 2. First Level Administrative Units (FLAU)"
      ],
      "metadata": {
        "id": "VEbSMBF8Bur3"
      }
    },
    {
      "cell_type": "code",
      "source": [
        "!wget https://github.com/wmgeolab/geoBoundaries/raw/main/releaseData/CGAZ/geoBoundariesCGAZ_ADM1.zip"
      ],
      "metadata": {
        "id": "YLe9TANPCBKz",
        "colab": {
          "base_uri": "https://localhost:8080/"
        },
        "outputId": "d2361add-bb4b-404f-9ceb-f8fb32bf4c51"
      },
      "execution_count": null,
      "outputs": [
        {
          "output_type": "stream",
          "name": "stdout",
          "text": [
            "--2025-09-11 14:30:26--  https://github.com/wmgeolab/geoBoundaries/raw/main/releaseData/CGAZ/geoBoundariesCGAZ_ADM1.zip\n",
            "Resolving github.com (github.com)... 20.27.177.113\n",
            "Connecting to github.com (github.com)|20.27.177.113|:443... connected.\n",
            "HTTP request sent, awaiting response... 302 Found\n",
            "Location: https://media.githubusercontent.com/media/wmgeolab/geoBoundaries/main/releaseData/CGAZ/geoBoundariesCGAZ_ADM1.zip [following]\n",
            "--2025-09-11 14:30:26--  https://media.githubusercontent.com/media/wmgeolab/geoBoundaries/main/releaseData/CGAZ/geoBoundariesCGAZ_ADM1.zip\n",
            "Resolving media.githubusercontent.com (media.githubusercontent.com)... 185.199.109.133, 185.199.108.133, 185.199.110.133, ...\n",
            "Connecting to media.githubusercontent.com (media.githubusercontent.com)|185.199.109.133|:443... connected.\n",
            "HTTP request sent, awaiting response... 200 OK\n",
            "Length: 103470246 (99M) [application/zip]\n",
            "Saving to: ‘geoBoundariesCGAZ_ADM1.zip’\n",
            "\n",
            "geoBoundariesCGAZ_A 100%[===================>]  98.68M  17.0MB/s    in 5.7s    \n",
            "\n",
            "2025-09-11 14:30:32 (17.3 MB/s) - ‘geoBoundariesCGAZ_ADM1.zip’ saved [103470246/103470246]\n",
            "\n"
          ]
        }
      ]
    },
    {
      "cell_type": "code",
      "source": [
        "!unzip \"/content/drive/MyDrive/Geodatabase/geoBoundariesCGAZ_ADM1.zip\" -d \"/content/drive/MyDrive/Geodatabase\""
      ],
      "metadata": {
        "id": "QEV1tX9oCBSg",
        "colab": {
          "base_uri": "https://localhost:8080/"
        },
        "outputId": "ab1def01-9949-485d-c3b6-280cd4b6d8d8"
      },
      "execution_count": null,
      "outputs": [
        {
          "output_type": "stream",
          "name": "stdout",
          "text": [
            "Archive:  /content/drive/MyDrive/Geodatabase/geoBoundariesCGAZ_ADM1.zip\n",
            "  inflating: /content/drive/MyDrive/Geodatabase/geoBoundariesCGAZ_ADM1.shp  \n",
            "  inflating: /content/drive/MyDrive/Geodatabase/geoBoundariesCGAZ_ADM1.shx  \n",
            "  inflating: /content/drive/MyDrive/Geodatabase/geoBoundariesCGAZ_ADM1.dbf  \n",
            "  inflating: /content/drive/MyDrive/Geodatabase/geoBoundariesCGAZ_ADM1.prj  \n"
          ]
        }
      ]
    },
    {
      "cell_type": "code",
      "source": [
        "FLAU = gpd.read_file('geoBoundariesCGAZ_ADM1.shp')\n",
        "#FLAU.head()\n",
        "\n",
        "FLAU.drop(['shapeID','shapeGroup', 'shapeType'], axis=1, inplace=True)\n",
        "FLAU.rename(columns={'shapeName': 'Department'}, inplace=True)\n",
        "#FLAU.info()\n",
        "\n",
        "# Check CRSs\n",
        "#print(FLAU.crs)\n",
        "#print(SACB_SA.crs)"
      ],
      "metadata": {
        "id": "xhRpa3A-qi3A"
      },
      "execution_count": null,
      "outputs": []
    },
    {
      "cell_type": "code",
      "source": [
        "FLAU_Intersect = FLAU.overlay(SACB_SA, how='intersection')"
      ],
      "metadata": {
        "id": "jVVA-AfrrKy3",
        "outputId": "542131ac-c289-460e-a80d-baa964811a6e",
        "colab": {
          "base_uri": "https://localhost:8080/"
        }
      },
      "execution_count": null,
      "outputs": [
        {
          "output_type": "stream",
          "name": "stderr",
          "text": [
            "/usr/local/lib/python3.12/dist-packages/geopandas/tools/overlay.py:358: UserWarning: `keep_geom_type=True` in overlay resulted in 37572 dropped geometries of different geometry types than df1 has. Set `keep_geom_type=False` to retain all geometries\n",
            "  result = _collection_extract(result, geom_type, keep_geom_type_warning)\n"
          ]
        }
      ]
    },
    {
      "cell_type": "code",
      "source": [
        "# If you want to check the Departments or States of SA countries\n",
        "#FLAU_Intersect.head(30)\n",
        "\n",
        "# Export data to Google Drive (.shp)\n",
        "output_path_FLAU = '/content/drive/MyDrive/Geodatabase/SA_FLAU.shp'\n",
        "FLAU_Intersect.to_file(output_path_FLAU)\n",
        "\n",
        "# If you want to display and visualize the data\n",
        "#FLAU_Intersect.plot(column='Department', figsize=(16,8))\n",
        "\n",
        "## Delete Zip to reduce space and volume\n",
        "\n",
        "!rm '/content/drive/MyDrive/Geodatabase/geoBoundariesCGAZ_ADM1.zip'\n",
        "\n",
        "shapefile_prefix = '/content/drive/MyDrive/Geodatabase/geoBoundariesCGAZ_ADM1'\n",
        "\n",
        "# List of common shapefile extensions\n",
        "extensions = ['.dbf', '.prj', '.shp', '.shx']\n",
        "\n",
        "for ext in extensions:\n",
        "    file_path = shapefile_prefix + ext\n",
        "    if os.path.exists(file_path):\n",
        "            os.remove(file_path)\n",
        "            print(f\"Deleted: {file_path}\")\n",
        "    else:\n",
        "            print(f\"File not found: {file_path}\")"
      ],
      "metadata": {
        "id": "ERng0LUGrK1M",
        "colab": {
          "base_uri": "https://localhost:8080/"
        },
        "outputId": "6fd90c04-1a71-4229-edf2-0dfa7e969364"
      },
      "execution_count": null,
      "outputs": [
        {
          "output_type": "stream",
          "name": "stdout",
          "text": [
            "Deleted: /content/drive/MyDrive/Geodatabase/geoBoundariesCGAZ_ADM1.dbf\n",
            "Deleted: /content/drive/MyDrive/Geodatabase/geoBoundariesCGAZ_ADM1.prj\n",
            "Deleted: /content/drive/MyDrive/Geodatabase/geoBoundariesCGAZ_ADM1.shp\n",
            "Deleted: /content/drive/MyDrive/Geodatabase/geoBoundariesCGAZ_ADM1.shx\n"
          ]
        }
      ]
    },
    {
      "cell_type": "markdown",
      "source": [
        "### 3. Second Level Administrative Units (SLAU)"
      ],
      "metadata": {
        "id": "wJV1pj_FBuvO"
      }
    },
    {
      "cell_type": "code",
      "source": [
        "!wget https://github.com/wmgeolab/geoBoundaries/raw/main/releaseData/CGAZ/geoBoundariesCGAZ_ADM2.zip"
      ],
      "metadata": {
        "id": "hXNIOFyiCS8-",
        "colab": {
          "base_uri": "https://localhost:8080/"
        },
        "outputId": "b373f72b-bc7b-43db-f236-579d264bbb03"
      },
      "execution_count": null,
      "outputs": [
        {
          "output_type": "stream",
          "name": "stdout",
          "text": [
            "--2025-09-11 14:33:01--  https://github.com/wmgeolab/geoBoundaries/raw/main/releaseData/CGAZ/geoBoundariesCGAZ_ADM2.zip\n",
            "Resolving github.com (github.com)... 20.27.177.113\n",
            "Connecting to github.com (github.com)|20.27.177.113|:443... connected.\n",
            "HTTP request sent, awaiting response... 302 Found\n",
            "Location: https://media.githubusercontent.com/media/wmgeolab/geoBoundaries/main/releaseData/CGAZ/geoBoundariesCGAZ_ADM2.zip [following]\n",
            "--2025-09-11 14:33:02--  https://media.githubusercontent.com/media/wmgeolab/geoBoundaries/main/releaseData/CGAZ/geoBoundariesCGAZ_ADM2.zip\n",
            "Resolving media.githubusercontent.com (media.githubusercontent.com)... 185.199.108.133, 185.199.110.133, 185.199.109.133, ...\n",
            "Connecting to media.githubusercontent.com (media.githubusercontent.com)|185.199.108.133|:443... connected.\n",
            "HTTP request sent, awaiting response... 200 OK\n",
            "Length: 155911064 (149M) [application/zip]\n",
            "Saving to: ‘geoBoundariesCGAZ_ADM2.zip’\n",
            "\n",
            "geoBoundariesCGAZ_A 100%[===================>] 148.69M  17.4MB/s    in 8.7s    \n",
            "\n",
            "2025-09-11 14:33:11 (17.2 MB/s) - ‘geoBoundariesCGAZ_ADM2.zip’ saved [155911064/155911064]\n",
            "\n"
          ]
        }
      ]
    },
    {
      "cell_type": "code",
      "source": [
        "!unzip \"/content/drive/MyDrive/Geodatabase/geoBoundariesCGAZ_ADM2.zip\" -d \"/content/drive/MyDrive/Geodatabase\""
      ],
      "metadata": {
        "id": "riUlYpD2CS_n",
        "colab": {
          "base_uri": "https://localhost:8080/"
        },
        "outputId": "3aa3a0b5-93f8-4d39-d253-a0132d42f6bc"
      },
      "execution_count": null,
      "outputs": [
        {
          "output_type": "stream",
          "name": "stdout",
          "text": [
            "Archive:  /content/drive/MyDrive/Geodatabase/geoBoundariesCGAZ_ADM2.zip\n",
            "  inflating: /content/drive/MyDrive/Geodatabase/geoBoundariesCGAZ_ADM2.shp  \n",
            "  inflating: /content/drive/MyDrive/Geodatabase/geoBoundariesCGAZ_ADM2.shx  \n",
            "  inflating: /content/drive/MyDrive/Geodatabase/geoBoundariesCGAZ_ADM2.dbf  \n",
            "  inflating: /content/drive/MyDrive/Geodatabase/geoBoundariesCGAZ_ADM2.prj  \n"
          ]
        }
      ]
    },
    {
      "cell_type": "code",
      "source": [
        "SLAU = gpd.read_file('geoBoundariesCGAZ_ADM2.shp')\n",
        "#SLAU.head()\n",
        "\n",
        "SLAU.drop(['shapeID','shapeGroup', 'shapeType'], axis=1, inplace=True)\n",
        "SLAU.rename(columns={'shapeName': 'Municipality'}, inplace=True)\n",
        "#SLAU.info()"
      ],
      "metadata": {
        "id": "E-pf8vuu5Pvh"
      },
      "execution_count": null,
      "outputs": []
    },
    {
      "cell_type": "code",
      "source": [
        "SLAU_Intersect = SLAU.overlay(SACB_SA, how='intersection')"
      ],
      "metadata": {
        "colab": {
          "base_uri": "https://localhost:8080/"
        },
        "id": "vTjOAzAy5P0p",
        "outputId": "2284a361-f3e4-44db-881b-c44a1ea7194c"
      },
      "execution_count": null,
      "outputs": [
        {
          "output_type": "stream",
          "name": "stderr",
          "text": [
            "/usr/local/lib/python3.12/dist-packages/geopandas/tools/overlay.py:358: UserWarning: `keep_geom_type=True` in overlay resulted in 32792 dropped geometries of different geometry types than df1 has. Set `keep_geom_type=False` to retain all geometries\n",
            "  result = _collection_extract(result, geom_type, keep_geom_type_warning)\n"
          ]
        }
      ]
    },
    {
      "cell_type": "code",
      "source": [
        "# If you want to check the Departments or States of SA countries\n",
        "#SLAU_Intersect.head(30)\n",
        "\n",
        "# If you want to display and visualize the data\n",
        "#SLAU_Intersect.plot(column='Municipality', figsize=(16,8))\n",
        "\n",
        "# Export data to Google Drive (.shp)\n",
        "output_path_SLAU = '/content/drive/MyDrive/Geodatabase/SA_SLAU.shp'\n",
        "SLAU_Intersect.to_file(output_path_SLAU)\n",
        "\n",
        "## Delete Zip to reduce space and volume\n",
        "\n",
        "!rm '/content/drive/MyDrive/Geodatabase/geoBoundariesCGAZ_ADM2.zip'\n",
        "\n",
        "shapefile_prefix = '/content/drive/MyDrive/Geodatabase/geoBoundariesCGAZ_ADM2'\n",
        "\n",
        "# List of common shapefile extensions\n",
        "extensions = ['.dbf', '.prj', '.shp', '.shx']\n",
        "\n",
        "for ext in extensions:\n",
        "    file_path = shapefile_prefix + ext\n",
        "    if os.path.exists(file_path):\n",
        "            os.remove(file_path)\n",
        "            print(f\"Deleted: {file_path}\")\n",
        "    else:\n",
        "            print(f\"File not found: {file_path}\")"
      ],
      "metadata": {
        "id": "zFKjR4BX6mze",
        "colab": {
          "base_uri": "https://localhost:8080/"
        },
        "outputId": "9790cd0c-78b6-4fce-9869-4a31cd5ccb0b"
      },
      "execution_count": null,
      "outputs": [
        {
          "output_type": "stream",
          "name": "stderr",
          "text": [
            "/tmp/ipython-input-42350365.py:9: UserWarning: Column names longer than 10 characters will be truncated when saved to ESRI Shapefile.\n",
            "  SLAU_Intersect.to_file(output_path_SLAU)\n",
            "/usr/local/lib/python3.12/dist-packages/pyogrio/raw.py:723: RuntimeWarning: Normalized/laundered field name: 'Municipality' to 'Municipali'\n",
            "  ogr_write(\n"
          ]
        },
        {
          "output_type": "stream",
          "name": "stdout",
          "text": [
            "Deleted: /content/drive/MyDrive/Geodatabase/geoBoundariesCGAZ_ADM2.dbf\n",
            "Deleted: /content/drive/MyDrive/Geodatabase/geoBoundariesCGAZ_ADM2.prj\n",
            "Deleted: /content/drive/MyDrive/Geodatabase/geoBoundariesCGAZ_ADM2.shp\n",
            "Deleted: /content/drive/MyDrive/Geodatabase/geoBoundariesCGAZ_ADM2.shx\n"
          ]
        }
      ]
    },
    {
      "cell_type": "markdown",
      "source": [
        "### 4. HydroSHEDS\n",
        "\n",
        "Due to the capacity and volume of geoprocessing raster files to vector (points, polylines, and polygons), the conversion of these files is performed in the ArcGIS API for Python.      \n"
      ],
      "metadata": {
        "id": "hukK-mGmBuyU"
      }
    },
    {
      "cell_type": "markdown",
      "source": [
        "#### Void Filled DEM"
      ],
      "metadata": {
        "id": "S5t2mPNprUrv"
      }
    },
    {
      "cell_type": "code",
      "source": [
        "!wget https://data.hydrosheds.org/file/hydrosheds-v1-dem/hyd_sa_dem_30s.zip"
      ],
      "metadata": {
        "colab": {
          "base_uri": "https://localhost:8080/"
        },
        "id": "Wc8sKPipri4j",
        "outputId": "7b593446-dfb8-4d23-fbe1-9c2c6e756072"
      },
      "execution_count": null,
      "outputs": [
        {
          "output_type": "stream",
          "name": "stdout",
          "text": [
            "--2025-09-11 14:44:35--  https://data.hydrosheds.org/file/hydrosheds-v1-dem/hyd_sa_dem_30s.zip\n",
            "Resolving data.hydrosheds.org (data.hydrosheds.org)... 104.21.14.61, 172.67.158.28, 2606:4700:3036::ac43:9e1c, ...\n",
            "Connecting to data.hydrosheds.org (data.hydrosheds.org)|104.21.14.61|:443... connected.\n",
            "HTTP request sent, awaiting response... 200 OK\n",
            "Length: 31834815 (30M) [application/zip]\n",
            "Saving to: ‘hyd_sa_dem_30s.zip’\n",
            "\n",
            "hyd_sa_dem_30s.zip  100%[===================>]  30.36M  44.8MB/s    in 0.7s    \n",
            "\n",
            "2025-09-11 14:44:36 (44.8 MB/s) - ‘hyd_sa_dem_30s.zip’ saved [31834815/31834815]\n",
            "\n"
          ]
        }
      ]
    },
    {
      "cell_type": "code",
      "source": [
        "!unzip \"/content/drive/MyDrive/Geodatabase/hyd_sa_dem_30s.zip\" -d \"/content/drive/MyDrive/Geodatabase\""
      ],
      "metadata": {
        "colab": {
          "base_uri": "https://localhost:8080/"
        },
        "id": "tMTyM2xHtQZa",
        "outputId": "0b3b77a0-b5d3-478f-c22f-8b1dde18b68e"
      },
      "execution_count": null,
      "outputs": [
        {
          "output_type": "stream",
          "name": "stdout",
          "text": [
            "Archive:  /content/drive/MyDrive/Geodatabase/hyd_sa_dem_30s.zip\n",
            " extracting: /content/drive/MyDrive/Geodatabase/hyd_sa_dem_30s.tif  \n",
            " extracting: /content/drive/MyDrive/Geodatabase/HydroSHEDS_TechDoc_v1_4.pdf  \n"
          ]
        }
      ]
    },
    {
      "cell_type": "code",
      "source": [
        "!rm '/content/drive/MyDrive/Geodatabase/hyd_sa_dem_30s.zip'\n",
        "!rm '/content/drive/MyDrive/Geodatabase/HydroSHEDS_TechDoc_v1_4.pdf'\n",
        "\n",
        "path_hydroSHEDS_DEM = '/content/drive/MyDrive/Geodatabase/hyd_sa_dem_30s.tif'\n",
        "with rasterio.open(path_hydroSHEDS_DEM) as src:\n",
        "  hydroSHEDS_DEM_SA = src.read(1)"
      ],
      "metadata": {
        "id": "7IO7ksQrtQcP"
      },
      "execution_count": null,
      "outputs": []
    },
    {
      "cell_type": "code",
      "source": [
        "## If you want to visualize data.\n",
        "#prof_hydroSHEDS_DEM = src.profile\n",
        "#print(\"Void Filled DEM Profile:\", prof_hydroSHEDS_DEM)"
      ],
      "metadata": {
        "id": "zlatQMK9Ogo_"
      },
      "execution_count": null,
      "outputs": []
    },
    {
      "cell_type": "markdown",
      "source": [
        "#### Flow Direction"
      ],
      "metadata": {
        "id": "TucpC6NIrU01"
      }
    },
    {
      "cell_type": "code",
      "source": [
        "!wget https://data.hydrosheds.org/file/hydrosheds-v1-dir/hyd_sa_dir_30s.zip"
      ],
      "metadata": {
        "id": "R-QGs-zHrv23",
        "colab": {
          "base_uri": "https://localhost:8080/"
        },
        "outputId": "cc0eb4ec-3c30-443d-8dc5-1b7ceaa9146a"
      },
      "execution_count": null,
      "outputs": [
        {
          "output_type": "stream",
          "name": "stdout",
          "text": [
            "--2025-09-11 14:45:54--  https://data.hydrosheds.org/file/hydrosheds-v1-dir/hyd_sa_dir_30s.zip\n",
            "Resolving data.hydrosheds.org (data.hydrosheds.org)... 172.67.158.28, 104.21.14.61, 2606:4700:3036::6815:e3d, ...\n",
            "Connecting to data.hydrosheds.org (data.hydrosheds.org)|172.67.158.28|:443... connected.\n",
            "HTTP request sent, awaiting response... 200 OK\n",
            "Length: 9349529 (8.9M) [application/zip]\n",
            "Saving to: ‘hyd_sa_dir_30s.zip’\n",
            "\n",
            "hyd_sa_dir_30s.zip  100%[===================>]   8.92M  5.90MB/s    in 1.5s    \n",
            "\n",
            "2025-09-11 14:45:57 (5.90 MB/s) - ‘hyd_sa_dir_30s.zip’ saved [9349529/9349529]\n",
            "\n"
          ]
        }
      ]
    },
    {
      "cell_type": "markdown",
      "source": [],
      "metadata": {
        "id": "ZPfXDx34ObpI"
      }
    },
    {
      "cell_type": "code",
      "source": [
        "!unzip \"/content/drive/MyDrive/Geodatabase/hyd_sa_dir_30s.zip\" -d \"/content/drive/MyDrive/Geodatabase\""
      ],
      "metadata": {
        "colab": {
          "base_uri": "https://localhost:8080/"
        },
        "id": "6rz_mAZjNx26",
        "outputId": "6e7def53-ca3f-48cb-80d5-ab929269adf5"
      },
      "execution_count": null,
      "outputs": [
        {
          "output_type": "stream",
          "name": "stdout",
          "text": [
            "Archive:  /content/drive/MyDrive/Geodatabase/hyd_sa_dir_30s.zip\n",
            " extracting: /content/drive/MyDrive/Geodatabase/hyd_sa_dir_30s.tif  \n",
            " extracting: /content/drive/MyDrive/Geodatabase/HydroSHEDS_TechDoc_v1_4.pdf  \n"
          ]
        }
      ]
    },
    {
      "cell_type": "code",
      "source": [
        "!rm '/content/drive/MyDrive/Geodatabase/hyd_sa_dir_30s.zip'\n",
        "!rm '/content/drive/MyDrive/Geodatabase/HydroSHEDS_TechDoc_v1_4.pdf'\n",
        "\n",
        "path_hydroSHEDS_Dir = '/content/drive/MyDrive/Geodatabase/hyd_sa_dir_30s.tif'\n",
        "with rasterio.open(path_hydroSHEDS_Dir) as src:\n",
        "  hydroSHEDS_Dir_SA = src.read(1)"
      ],
      "metadata": {
        "id": "OZAeya4UNx5J"
      },
      "execution_count": null,
      "outputs": []
    },
    {
      "cell_type": "code",
      "source": [
        "## If you want to visualize data.\n",
        "#prof_hydroSHEDS_Dir = src.profile\n",
        "#print(\"Flow Direction Profile}:\", prof_hydroSHEDS_Dir)"
      ],
      "metadata": {
        "id": "HUKof7SVNx7d"
      },
      "execution_count": null,
      "outputs": []
    },
    {
      "cell_type": "markdown",
      "source": [
        "#### Flow Accumulation"
      ],
      "metadata": {
        "id": "LvlZbznNrU3c"
      }
    },
    {
      "cell_type": "code",
      "source": [
        "!wget https://data.hydrosheds.org/file/hydrosheds-v1-acc/hyd_sa_acc_30s.zip"
      ],
      "metadata": {
        "id": "HECuGJSxrwl-",
        "colab": {
          "base_uri": "https://localhost:8080/"
        },
        "outputId": "49fe8ed3-8c86-4e20-c455-9552d4230670"
      },
      "execution_count": null,
      "outputs": [
        {
          "output_type": "stream",
          "name": "stdout",
          "text": [
            "--2025-09-11 14:47:41--  https://data.hydrosheds.org/file/hydrosheds-v1-acc/hyd_sa_acc_30s.zip\n",
            "Resolving data.hydrosheds.org (data.hydrosheds.org)... 172.67.158.28, 104.21.14.61, 2606:4700:3036::6815:e3d, ...\n",
            "Connecting to data.hydrosheds.org (data.hydrosheds.org)|172.67.158.28|:443... connected.\n",
            "HTTP request sent, awaiting response... 200 OK\n",
            "Length: 19947429 (19M) [application/zip]\n",
            "Saving to: ‘hyd_sa_acc_30s.zip’\n",
            "\n",
            "hyd_sa_acc_30s.zip  100%[===================>]  19.02M  10.5MB/s    in 1.8s    \n",
            "\n",
            "2025-09-11 14:47:44 (10.5 MB/s) - ‘hyd_sa_acc_30s.zip’ saved [19947429/19947429]\n",
            "\n"
          ]
        }
      ]
    },
    {
      "cell_type": "code",
      "source": [
        "!unzip \"/content/drive/MyDrive/Geodatabase/hyd_sa_acc_30s.zip\" -d \"/content/drive/MyDrive/Geodatabase\""
      ],
      "metadata": {
        "colab": {
          "base_uri": "https://localhost:8080/"
        },
        "id": "o7J7fm3tRFZ-",
        "outputId": "a3a9764a-c0d4-457a-9b53-cfc35d759584"
      },
      "execution_count": null,
      "outputs": [
        {
          "output_type": "stream",
          "name": "stdout",
          "text": [
            "Archive:  /content/drive/MyDrive/Geodatabase/hyd_sa_acc_30s.zip\n",
            " extracting: /content/drive/MyDrive/Geodatabase/hyd_sa_acc_30s.tif  \n",
            " extracting: /content/drive/MyDrive/Geodatabase/HydroSHEDS_TechDoc_v1_4.pdf  \n"
          ]
        }
      ]
    },
    {
      "cell_type": "code",
      "source": [
        "!rm '/content/drive/MyDrive/Geodatabase/hyd_sa_acc_30s.zip'\n",
        "!rm '/content/drive/MyDrive/Geodatabase/HydroSHEDS_TechDoc_v1_4.pdf'\n",
        "\n",
        "path_hydroSHEDS_Flow = '/content/drive/MyDrive/Geodatabase/hyd_sa_dir_30s.tif'\n",
        "with rasterio.open(path_hydroSHEDS_Flow) as src:\n",
        "  hydroSHEDS_Flow_SA = src.read(1)"
      ],
      "metadata": {
        "id": "xc10YtcqRFcd"
      },
      "execution_count": null,
      "outputs": []
    },
    {
      "cell_type": "code",
      "source": [
        "## If you want to visualize data.\n",
        "#prof_hydroSHEDS_Flow = src.profile\n",
        "#print(\"Flow Accumulation Profile}:\", prof_hydroSHEDS_Flow)"
      ],
      "metadata": {
        "id": "KfvRgY1URFfU"
      },
      "execution_count": null,
      "outputs": []
    },
    {
      "cell_type": "markdown",
      "source": [
        "#### Flow Length Upstream"
      ],
      "metadata": {
        "id": "rY5uFKOwrU58"
      }
    },
    {
      "cell_type": "code",
      "source": [
        "!wget https://data.hydrosheds.org/file/hydrosheds-v1-lup/hyd_sa_lup_15s.zip"
      ],
      "metadata": {
        "id": "SGaES5I2rxT5",
        "colab": {
          "base_uri": "https://localhost:8080/"
        },
        "outputId": "fba64624-6094-47a9-8924-e6ea0e0eb07e"
      },
      "execution_count": null,
      "outputs": [
        {
          "output_type": "stream",
          "name": "stdout",
          "text": [
            "--2025-09-11 14:48:56--  https://data.hydrosheds.org/file/hydrosheds-v1-lup/hyd_sa_lup_15s.zip\n",
            "Resolving data.hydrosheds.org (data.hydrosheds.org)... 104.21.14.61, 172.67.158.28, 2606:4700:3036::6815:e3d, ...\n",
            "Connecting to data.hydrosheds.org (data.hydrosheds.org)|104.21.14.61|:443... connected.\n",
            "HTTP request sent, awaiting response... 200 OK\n",
            "Length: 100988898 (96M) [application/zip]\n",
            "Saving to: ‘hyd_sa_lup_15s.zip’\n",
            "\n",
            "hyd_sa_lup_15s.zip  100%[===================>]  96.31M  19.0MB/s    in 6.3s    \n",
            "\n",
            "2025-09-11 14:49:03 (15.4 MB/s) - ‘hyd_sa_lup_15s.zip’ saved [100988898/100988898]\n",
            "\n"
          ]
        }
      ]
    },
    {
      "cell_type": "code",
      "source": [
        "!unzip \"/content/drive/MyDrive/Geodatabase/hyd_sa_lup_15s.zip\" -d \"/content/drive/MyDrive/Geodatabase\""
      ],
      "metadata": {
        "colab": {
          "base_uri": "https://localhost:8080/"
        },
        "id": "_SdZqlHTjLRj",
        "outputId": "4112fd06-2623-4f35-9eee-b4cde08037cd"
      },
      "execution_count": null,
      "outputs": [
        {
          "output_type": "stream",
          "name": "stdout",
          "text": [
            "Archive:  /content/drive/MyDrive/Geodatabase/hyd_sa_lup_15s.zip\n",
            " extracting: /content/drive/MyDrive/Geodatabase/hyd_sa_lup_15s.tif  \n",
            " extracting: /content/drive/MyDrive/Geodatabase/HydroSHEDS_TechDoc_v1_4.pdf  \n"
          ]
        }
      ]
    },
    {
      "cell_type": "code",
      "source": [
        "!rm '/content/drive/MyDrive/Geodatabase/hyd_sa_lup_15s.zip'\n",
        "!rm '/content/drive/MyDrive/Geodatabase/HydroSHEDS_TechDoc_v1_4.pdf'\n",
        "\n",
        "path_hydroSHEDS_Lup = '/content/drive/MyDrive/Geodatabase/hyd_sa_lup_15s.tif'\n",
        "with rasterio.open(path_hydroSHEDS_Lup) as src:\n",
        "  hydroSHEDS_Lup_SA = src.read(1)"
      ],
      "metadata": {
        "id": "-6zb9Xr0jLa_"
      },
      "execution_count": null,
      "outputs": []
    },
    {
      "cell_type": "code",
      "source": [
        "## If you want to visualize data.\n",
        "#prof_hydroSHEDS_Lup = src.profile\n",
        "#print(\"Flow Length Upstream Profile}:\", prof_hydroSHEDS_Lup)"
      ],
      "metadata": {
        "id": "wZBqxutPjLds"
      },
      "execution_count": null,
      "outputs": []
    },
    {
      "cell_type": "markdown",
      "source": [
        "#### Flow Length Downstream"
      ],
      "metadata": {
        "id": "Y58eWze-rU8R"
      }
    },
    {
      "cell_type": "code",
      "source": [
        "!wget https://data.hydrosheds.org/file/hydrosheds-v1-ldn/hyd_sa_ldn_15s.zip"
      ],
      "metadata": {
        "id": "9Cc3aRh-rygG",
        "colab": {
          "base_uri": "https://localhost:8080/"
        },
        "outputId": "797546b8-6f97-40a8-99fb-fcceff2bac30"
      },
      "execution_count": null,
      "outputs": [
        {
          "output_type": "stream",
          "name": "stdout",
          "text": [
            "--2025-09-11 14:49:57--  https://data.hydrosheds.org/file/hydrosheds-v1-ldn/hyd_sa_ldn_15s.zip\n",
            "Resolving data.hydrosheds.org (data.hydrosheds.org)... 172.67.158.28, 104.21.14.61, 2606:4700:3036::6815:e3d, ...\n",
            "Connecting to data.hydrosheds.org (data.hydrosheds.org)|172.67.158.28|:443... connected.\n",
            "HTTP request sent, awaiting response... 200 OK\n",
            "Length: 241146941 (230M) [application/zip]\n",
            "Saving to: ‘hyd_sa_ldn_15s.zip’\n",
            "\n",
            "hyd_sa_ldn_15s.zip  100%[===================>] 229.98M  17.3MB/s    in 13s     \n",
            "\n",
            "2025-09-11 14:50:12 (17.5 MB/s) - ‘hyd_sa_ldn_15s.zip’ saved [241146941/241146941]\n",
            "\n"
          ]
        }
      ]
    },
    {
      "cell_type": "code",
      "source": [
        "!unzip \"/content/drive/MyDrive/Geodatabase/hyd_sa_ldn_15s.zip\" -d \"/content/drive/MyDrive/Geodatabase\""
      ],
      "metadata": {
        "colab": {
          "base_uri": "https://localhost:8080/"
        },
        "id": "xEp68GWDk3yW",
        "outputId": "436e3d00-f2f4-4e75-e5e8-0ce8a8905f51"
      },
      "execution_count": null,
      "outputs": [
        {
          "output_type": "stream",
          "name": "stdout",
          "text": [
            "Archive:  /content/drive/MyDrive/Geodatabase/hyd_sa_ldn_15s.zip\n",
            " extracting: /content/drive/MyDrive/Geodatabase/hyd_sa_ldn_15s.tif  \n",
            " extracting: /content/drive/MyDrive/Geodatabase/HydroSHEDS_TechDoc_v1_4.pdf  \n"
          ]
        }
      ]
    },
    {
      "cell_type": "code",
      "source": [
        "!rm '/content/drive/MyDrive/Geodatabase/hyd_sa_ldn_15s.zip'\n",
        "!rm '/content/drive/MyDrive/Geodatabase/HydroSHEDS_TechDoc_v1_4.pdf'\n",
        "\n",
        "path_hydroSHEDS_Ldn = '/content/drive/MyDrive/Geodatabase/hyd_sa_ldn_15s.tif'\n",
        "with rasterio.open(path_hydroSHEDS_Ldn) as src:\n",
        "  hydroSHEDS_Ldn_SA = src.read(1)"
      ],
      "metadata": {
        "id": "m1FQqV9Hk31V"
      },
      "execution_count": null,
      "outputs": []
    },
    {
      "cell_type": "code",
      "source": [
        "## If you want to visualize data.\n",
        "#prof_hydroSHEDS_Ldn = src.profile\n",
        "#print(\"Flow Length Upstream Profile}:\", prof_hydroSHEDS_Ldn)"
      ],
      "metadata": {
        "id": "tDsPOM8nk37j"
      },
      "execution_count": null,
      "outputs": []
    },
    {
      "cell_type": "markdown",
      "source": [
        "### 5. HydroBASINS (Level 1 to 12)"
      ],
      "metadata": {
        "id": "h7r0VegfBu1O"
      }
    },
    {
      "cell_type": "code",
      "source": [
        "# Create a new folder where hydroBASINS will be zip and unzip\n",
        "\n",
        "basins_download = '/content/drive/MyDrive/Geodatabase/HydroBASINS_Lv_01_12_download'\n",
        "os.makedirs(basins_download, exist_ok=True)\n",
        "print(f\"Folder '{basins_download}' created successfully.\")\n",
        "\n",
        "basins_stored = '/content/drive/MyDrive/Geodatabase/HydroBASINS_Lv_01_12_stored'\n",
        "os.makedirs(basins_stored, exist_ok=True)\n",
        "print(f\"Folder '{basins_stored}' created successfully.\")\n",
        "\n",
        "# Set new Directory or WorkSpace to download and geoprocessing basins\n",
        "%cd /content/drive/MyDrive/Geodatabase/HydroBASINS_Lv_01_12_download"
      ],
      "metadata": {
        "colab": {
          "base_uri": "https://localhost:8080/"
        },
        "id": "VIa_CaNnA57D",
        "outputId": "0a487713-c6f3-447f-a061-e198d2698549"
      },
      "execution_count": null,
      "outputs": [
        {
          "output_type": "stream",
          "name": "stdout",
          "text": [
            "Folder '/content/drive/MyDrive/Geodatabase/HydroBASINS_Lv_01_12_download' created successfully.\n",
            "Folder '/content/drive/MyDrive/Geodatabase/HydroBASINS_Lv_01_12_stored' created successfully.\n",
            "/content/drive/MyDrive/Geodatabase/HydroBASINS_Lv_01_12_download\n"
          ]
        }
      ]
    },
    {
      "cell_type": "code",
      "source": [
        "!wget https://data.hydrosheds.org/file/hydrobasins/standard/hybas_sa_lev01-12_v1c.zip"
      ],
      "metadata": {
        "id": "Lr3NMAcHEGOT",
        "colab": {
          "base_uri": "https://localhost:8080/"
        },
        "outputId": "e643c825-f183-41fe-950d-47ba18a48f89"
      },
      "execution_count": null,
      "outputs": [
        {
          "output_type": "stream",
          "name": "stdout",
          "text": [
            "--2025-09-11 18:40:41--  https://data.hydrosheds.org/file/hydrobasins/standard/hybas_sa_lev01-12_v1c.zip\n",
            "Resolving data.hydrosheds.org (data.hydrosheds.org)... 172.67.158.28, 104.21.14.61, 2606:4700:3036::6815:e3d, ...\n",
            "Connecting to data.hydrosheds.org (data.hydrosheds.org)|172.67.158.28|:443... connected.\n",
            "HTTP request sent, awaiting response... 200 OK\n",
            "Length: 334160720 (319M) [application/zip]\n",
            "Saving to: ‘hybas_sa_lev01-12_v1c.zip’\n",
            "\n",
            "hybas_sa_lev01-12_v 100%[===================>] 318.68M  39.8MB/s    in 7.7s    \n",
            "\n",
            "2025-09-11 18:40:49 (41.2 MB/s) - ‘hybas_sa_lev01-12_v1c.zip’ saved [334160720/334160720]\n",
            "\n"
          ]
        }
      ]
    },
    {
      "cell_type": "code",
      "source": [
        "!unzip \"/content/drive/MyDrive/Geodatabase/HydroBASINS_Lv_01_12_download/hybas_sa_lev01-12_v1c.zip\" -d \"/content/drive/MyDrive/Geodatabase/HydroBASINS_Lv_01_12_download\""
      ],
      "metadata": {
        "id": "Qb1wJvQdEGTD",
        "colab": {
          "base_uri": "https://localhost:8080/"
        },
        "outputId": "573d8516-290e-4ea9-d149-fcd5d464ff74"
      },
      "execution_count": null,
      "outputs": [
        {
          "output_type": "stream",
          "name": "stdout",
          "text": [
            "Archive:  /content/drive/MyDrive/Geodatabase/HydroBASINS_Lv_01_12_download/hybas_sa_lev01-12_v1c.zip\n",
            "  inflating: /content/drive/MyDrive/Geodatabase/HydroBASINS_Lv_01_12_download/hybas_sa_lev01_v1c.dbf  \n",
            "  inflating: /content/drive/MyDrive/Geodatabase/HydroBASINS_Lv_01_12_download/hybas_sa_lev01_v1c.prj  \n",
            "  inflating: /content/drive/MyDrive/Geodatabase/HydroBASINS_Lv_01_12_download/hybas_sa_lev01_v1c.sbn  \n",
            "  inflating: /content/drive/MyDrive/Geodatabase/HydroBASINS_Lv_01_12_download/hybas_sa_lev01_v1c.sbx  \n",
            "  inflating: /content/drive/MyDrive/Geodatabase/HydroBASINS_Lv_01_12_download/hybas_sa_lev01_v1c.shp  \n",
            "  inflating: /content/drive/MyDrive/Geodatabase/HydroBASINS_Lv_01_12_download/hybas_sa_lev01_v1c.shp.xml  \n",
            "  inflating: /content/drive/MyDrive/Geodatabase/HydroBASINS_Lv_01_12_download/hybas_sa_lev01_v1c.shx  \n",
            "  inflating: /content/drive/MyDrive/Geodatabase/HydroBASINS_Lv_01_12_download/hybas_sa_lev02_v1c.dbf  \n",
            "  inflating: /content/drive/MyDrive/Geodatabase/HydroBASINS_Lv_01_12_download/hybas_sa_lev02_v1c.prj  \n",
            "  inflating: /content/drive/MyDrive/Geodatabase/HydroBASINS_Lv_01_12_download/hybas_sa_lev02_v1c.sbn  \n",
            "  inflating: /content/drive/MyDrive/Geodatabase/HydroBASINS_Lv_01_12_download/hybas_sa_lev02_v1c.sbx  \n",
            "  inflating: /content/drive/MyDrive/Geodatabase/HydroBASINS_Lv_01_12_download/hybas_sa_lev02_v1c.shp  \n",
            "  inflating: /content/drive/MyDrive/Geodatabase/HydroBASINS_Lv_01_12_download/hybas_sa_lev02_v1c.shp.xml  \n",
            "  inflating: /content/drive/MyDrive/Geodatabase/HydroBASINS_Lv_01_12_download/hybas_sa_lev02_v1c.shx  \n",
            "  inflating: /content/drive/MyDrive/Geodatabase/HydroBASINS_Lv_01_12_download/hybas_sa_lev03_v1c.dbf  \n",
            "  inflating: /content/drive/MyDrive/Geodatabase/HydroBASINS_Lv_01_12_download/hybas_sa_lev03_v1c.prj  \n",
            "  inflating: /content/drive/MyDrive/Geodatabase/HydroBASINS_Lv_01_12_download/hybas_sa_lev03_v1c.sbn  \n",
            "  inflating: /content/drive/MyDrive/Geodatabase/HydroBASINS_Lv_01_12_download/hybas_sa_lev03_v1c.sbx  \n",
            "  inflating: /content/drive/MyDrive/Geodatabase/HydroBASINS_Lv_01_12_download/hybas_sa_lev03_v1c.shp  \n",
            "  inflating: /content/drive/MyDrive/Geodatabase/HydroBASINS_Lv_01_12_download/hybas_sa_lev03_v1c.shp.xml  \n",
            "  inflating: /content/drive/MyDrive/Geodatabase/HydroBASINS_Lv_01_12_download/hybas_sa_lev03_v1c.shx  \n",
            "  inflating: /content/drive/MyDrive/Geodatabase/HydroBASINS_Lv_01_12_download/hybas_sa_lev04_v1c.dbf  \n",
            "  inflating: /content/drive/MyDrive/Geodatabase/HydroBASINS_Lv_01_12_download/hybas_sa_lev04_v1c.prj  \n",
            "  inflating: /content/drive/MyDrive/Geodatabase/HydroBASINS_Lv_01_12_download/hybas_sa_lev04_v1c.sbn  \n",
            "  inflating: /content/drive/MyDrive/Geodatabase/HydroBASINS_Lv_01_12_download/hybas_sa_lev04_v1c.sbx  \n",
            "  inflating: /content/drive/MyDrive/Geodatabase/HydroBASINS_Lv_01_12_download/hybas_sa_lev04_v1c.shp  \n",
            "  inflating: /content/drive/MyDrive/Geodatabase/HydroBASINS_Lv_01_12_download/hybas_sa_lev04_v1c.shp.xml  \n",
            "  inflating: /content/drive/MyDrive/Geodatabase/HydroBASINS_Lv_01_12_download/hybas_sa_lev04_v1c.shx  \n",
            "  inflating: /content/drive/MyDrive/Geodatabase/HydroBASINS_Lv_01_12_download/hybas_sa_lev05_v1c.dbf  \n",
            "  inflating: /content/drive/MyDrive/Geodatabase/HydroBASINS_Lv_01_12_download/hybas_sa_lev05_v1c.prj  \n",
            "  inflating: /content/drive/MyDrive/Geodatabase/HydroBASINS_Lv_01_12_download/hybas_sa_lev05_v1c.sbn  \n",
            "  inflating: /content/drive/MyDrive/Geodatabase/HydroBASINS_Lv_01_12_download/hybas_sa_lev05_v1c.sbx  \n",
            "  inflating: /content/drive/MyDrive/Geodatabase/HydroBASINS_Lv_01_12_download/hybas_sa_lev05_v1c.shp  \n",
            "  inflating: /content/drive/MyDrive/Geodatabase/HydroBASINS_Lv_01_12_download/hybas_sa_lev05_v1c.shp.xml  \n",
            "  inflating: /content/drive/MyDrive/Geodatabase/HydroBASINS_Lv_01_12_download/hybas_sa_lev05_v1c.shx  \n",
            "  inflating: /content/drive/MyDrive/Geodatabase/HydroBASINS_Lv_01_12_download/hybas_sa_lev06_v1c.dbf  \n",
            "  inflating: /content/drive/MyDrive/Geodatabase/HydroBASINS_Lv_01_12_download/hybas_sa_lev06_v1c.prj  \n",
            "  inflating: /content/drive/MyDrive/Geodatabase/HydroBASINS_Lv_01_12_download/hybas_sa_lev06_v1c.sbn  \n",
            "  inflating: /content/drive/MyDrive/Geodatabase/HydroBASINS_Lv_01_12_download/hybas_sa_lev06_v1c.sbx  \n",
            "  inflating: /content/drive/MyDrive/Geodatabase/HydroBASINS_Lv_01_12_download/hybas_sa_lev06_v1c.shp  \n",
            "  inflating: /content/drive/MyDrive/Geodatabase/HydroBASINS_Lv_01_12_download/hybas_sa_lev06_v1c.shp.xml  \n",
            "  inflating: /content/drive/MyDrive/Geodatabase/HydroBASINS_Lv_01_12_download/hybas_sa_lev06_v1c.shx  \n",
            "  inflating: /content/drive/MyDrive/Geodatabase/HydroBASINS_Lv_01_12_download/hybas_sa_lev07_v1c.dbf  \n",
            "  inflating: /content/drive/MyDrive/Geodatabase/HydroBASINS_Lv_01_12_download/hybas_sa_lev07_v1c.prj  \n",
            "  inflating: /content/drive/MyDrive/Geodatabase/HydroBASINS_Lv_01_12_download/hybas_sa_lev07_v1c.sbn  \n",
            "  inflating: /content/drive/MyDrive/Geodatabase/HydroBASINS_Lv_01_12_download/hybas_sa_lev07_v1c.sbx  \n",
            "  inflating: /content/drive/MyDrive/Geodatabase/HydroBASINS_Lv_01_12_download/hybas_sa_lev07_v1c.shp  \n",
            "  inflating: /content/drive/MyDrive/Geodatabase/HydroBASINS_Lv_01_12_download/hybas_sa_lev07_v1c.shp.xml  \n",
            "  inflating: /content/drive/MyDrive/Geodatabase/HydroBASINS_Lv_01_12_download/hybas_sa_lev07_v1c.shx  \n",
            "  inflating: /content/drive/MyDrive/Geodatabase/HydroBASINS_Lv_01_12_download/hybas_sa_lev08_v1c.dbf  \n",
            "  inflating: /content/drive/MyDrive/Geodatabase/HydroBASINS_Lv_01_12_download/hybas_sa_lev08_v1c.prj  \n",
            "  inflating: /content/drive/MyDrive/Geodatabase/HydroBASINS_Lv_01_12_download/hybas_sa_lev08_v1c.sbn  \n",
            "  inflating: /content/drive/MyDrive/Geodatabase/HydroBASINS_Lv_01_12_download/hybas_sa_lev08_v1c.sbx  \n",
            "  inflating: /content/drive/MyDrive/Geodatabase/HydroBASINS_Lv_01_12_download/hybas_sa_lev08_v1c.shp  \n",
            "  inflating: /content/drive/MyDrive/Geodatabase/HydroBASINS_Lv_01_12_download/hybas_sa_lev08_v1c.shp.xml  \n",
            "  inflating: /content/drive/MyDrive/Geodatabase/HydroBASINS_Lv_01_12_download/hybas_sa_lev08_v1c.shx  \n",
            "  inflating: /content/drive/MyDrive/Geodatabase/HydroBASINS_Lv_01_12_download/hybas_sa_lev09_v1c.dbf  \n",
            "  inflating: /content/drive/MyDrive/Geodatabase/HydroBASINS_Lv_01_12_download/hybas_sa_lev09_v1c.prj  \n",
            "  inflating: /content/drive/MyDrive/Geodatabase/HydroBASINS_Lv_01_12_download/hybas_sa_lev09_v1c.sbn  \n",
            "  inflating: /content/drive/MyDrive/Geodatabase/HydroBASINS_Lv_01_12_download/hybas_sa_lev09_v1c.sbx  \n",
            "  inflating: /content/drive/MyDrive/Geodatabase/HydroBASINS_Lv_01_12_download/hybas_sa_lev09_v1c.shp  \n",
            "  inflating: /content/drive/MyDrive/Geodatabase/HydroBASINS_Lv_01_12_download/hybas_sa_lev09_v1c.shp.xml  \n",
            "  inflating: /content/drive/MyDrive/Geodatabase/HydroBASINS_Lv_01_12_download/hybas_sa_lev09_v1c.shx  \n",
            "  inflating: /content/drive/MyDrive/Geodatabase/HydroBASINS_Lv_01_12_download/hybas_sa_lev10_v1c.dbf  \n",
            "  inflating: /content/drive/MyDrive/Geodatabase/HydroBASINS_Lv_01_12_download/hybas_sa_lev10_v1c.prj  \n",
            "  inflating: /content/drive/MyDrive/Geodatabase/HydroBASINS_Lv_01_12_download/hybas_sa_lev10_v1c.sbn  \n",
            "  inflating: /content/drive/MyDrive/Geodatabase/HydroBASINS_Lv_01_12_download/hybas_sa_lev10_v1c.sbx  \n",
            "  inflating: /content/drive/MyDrive/Geodatabase/HydroBASINS_Lv_01_12_download/hybas_sa_lev10_v1c.shp  \n",
            "  inflating: /content/drive/MyDrive/Geodatabase/HydroBASINS_Lv_01_12_download/hybas_sa_lev10_v1c.shp.xml  \n",
            "  inflating: /content/drive/MyDrive/Geodatabase/HydroBASINS_Lv_01_12_download/hybas_sa_lev10_v1c.shx  \n",
            "  inflating: /content/drive/MyDrive/Geodatabase/HydroBASINS_Lv_01_12_download/hybas_sa_lev11_v1c.dbf  \n",
            "  inflating: /content/drive/MyDrive/Geodatabase/HydroBASINS_Lv_01_12_download/hybas_sa_lev11_v1c.prj  \n",
            "  inflating: /content/drive/MyDrive/Geodatabase/HydroBASINS_Lv_01_12_download/hybas_sa_lev11_v1c.sbn  \n",
            "  inflating: /content/drive/MyDrive/Geodatabase/HydroBASINS_Lv_01_12_download/hybas_sa_lev11_v1c.sbx  \n",
            "  inflating: /content/drive/MyDrive/Geodatabase/HydroBASINS_Lv_01_12_download/hybas_sa_lev11_v1c.shp  \n",
            "  inflating: /content/drive/MyDrive/Geodatabase/HydroBASINS_Lv_01_12_download/hybas_sa_lev11_v1c.shp.xml  \n",
            "  inflating: /content/drive/MyDrive/Geodatabase/HydroBASINS_Lv_01_12_download/hybas_sa_lev11_v1c.shx  \n",
            "  inflating: /content/drive/MyDrive/Geodatabase/HydroBASINS_Lv_01_12_download/hybas_sa_lev12_v1c.dbf  \n",
            "  inflating: /content/drive/MyDrive/Geodatabase/HydroBASINS_Lv_01_12_download/hybas_sa_lev12_v1c.prj  \n",
            "  inflating: /content/drive/MyDrive/Geodatabase/HydroBASINS_Lv_01_12_download/hybas_sa_lev12_v1c.sbn  \n",
            "  inflating: /content/drive/MyDrive/Geodatabase/HydroBASINS_Lv_01_12_download/hybas_sa_lev12_v1c.sbx  \n",
            "  inflating: /content/drive/MyDrive/Geodatabase/HydroBASINS_Lv_01_12_download/hybas_sa_lev12_v1c.shp  \n",
            "  inflating: /content/drive/MyDrive/Geodatabase/HydroBASINS_Lv_01_12_download/hybas_sa_lev12_v1c.shp.xml  \n",
            "  inflating: /content/drive/MyDrive/Geodatabase/HydroBASINS_Lv_01_12_download/hybas_sa_lev12_v1c.shx  \n",
            "  inflating: /content/drive/MyDrive/Geodatabase/HydroBASINS_Lv_01_12_download/HydroBASINS_TechDoc_v1c.pdf  \n"
          ]
        }
      ]
    },
    {
      "cell_type": "code",
      "source": [
        "!rm '/content/drive/MyDrive/Geodatabase/HydroBASINS_Lv_01_12_download/hybas_sa_lev01-12_v1c.zip'\n",
        "!rm '/content/drive/MyDrive/Geodatabase/HydroBASINS_Lv_01_12_download/HydroBASINS_TechDoc_v1c.pdf'"
      ],
      "metadata": {
        "id": "tUotsVNoR5qp"
      },
      "execution_count": null,
      "outputs": []
    },
    {
      "cell_type": "markdown",
      "source": [
        "#### Basins Level 1 to 12"
      ],
      "metadata": {
        "id": "KNtR9NfHRzrm"
      }
    },
    {
      "cell_type": "code",
      "source": [
        "input_basins_sa = '/content/drive/MyDrive/Geodatabase/HydroBASINS_Lv_01_12_download/'\n",
        "output_basins_sa = '/content/drive/MyDrive/Geodatabase/HydroBASINS_Lv_01_12_stored/'\n",
        "\n",
        "# Create output folder if it doesn't exist\n",
        "os.makedirs(output_basins_sa, exist_ok=True)\n",
        "\n",
        "drop_basins_columns = ['NEXT_DOWN','NEXT_SINK','MAIN_BAS','DIST_SINK','DIST_MAIN','SUB_AREA','UP_AREA','PFAF_ID','ENDO','COAST','ORDER','SORT']\n",
        "\n",
        "# Create a for loop through all shapefiles (.shp)\n",
        "for filename in os.listdir(input_basins_sa):\n",
        "    if filename.endswith('.shp'):\n",
        "        filepath = os.path.join(input_basins_sa, filename)\n",
        "        gdf = gpd.read_file(filepath)\n",
        "\n",
        "        # Drop unwanted columns (ignore if not present)\n",
        "        gdf = gdf.drop(columns=[col for col in drop_basins_columns if col in gdf.columns])\n",
        "\n",
        "        # Export cleaned shapefile\n",
        "        output_path = os.path.join(output_basins_sa, filename)\n",
        "        gdf.to_file(output_path)\n",
        "        print(f\"Processed and saved: {filename}\")"
      ],
      "metadata": {
        "colab": {
          "base_uri": "https://localhost:8080/"
        },
        "outputId": "fbbd6b9a-2405-41f4-dc15-34017d3d41b8",
        "id": "DEFVVF6rz3ot"
      },
      "execution_count": null,
      "outputs": [
        {
          "output_type": "stream",
          "name": "stdout",
          "text": [
            "Processed and saved: hybas_sa_lev01_v1c.shp\n",
            "Processed and saved: hybas_sa_lev02_v1c.shp\n",
            "Processed and saved: hybas_sa_lev03_v1c.shp\n",
            "Processed and saved: hybas_sa_lev04_v1c.shp\n",
            "Processed and saved: hybas_sa_lev05_v1c.shp\n",
            "Processed and saved: hybas_sa_lev06_v1c.shp\n",
            "Processed and saved: hybas_sa_lev07_v1c.shp\n",
            "Processed and saved: hybas_sa_lev08_v1c.shp\n",
            "Processed and saved: hybas_sa_lev09_v1c.shp\n",
            "Processed and saved: hybas_sa_lev10_v1c.shp\n",
            "Processed and saved: hybas_sa_lev11_v1c.shp\n",
            "Processed and saved: hybas_sa_lev12_v1c.shp\n"
          ]
        }
      ]
    },
    {
      "cell_type": "code",
      "source": [
        "!rm -rf \"/content/drive/MyDrive/Your_Folder_Name\""
      ],
      "metadata": {
        "id": "pSYtKRrA1w6c"
      },
      "execution_count": null,
      "outputs": []
    },
    {
      "cell_type": "markdown",
      "source": [
        "### 6. HydroRIVERS"
      ],
      "metadata": {
        "id": "RdDqxedsBu4B"
      }
    },
    {
      "cell_type": "code",
      "source": [
        "# Set Directory or WorkSpace\n",
        "%cd /content/drive/MyDrive/Geodatabase"
      ],
      "metadata": {
        "colab": {
          "base_uri": "https://localhost:8080/"
        },
        "id": "u0wl-IxpvGEW",
        "outputId": "f6d36d62-58f9-4a9e-c574-4e589161a57e"
      },
      "execution_count": 16,
      "outputs": [
        {
          "output_type": "stream",
          "name": "stdout",
          "text": [
            "/content/drive/MyDrive/Geodatabase\n"
          ]
        }
      ]
    },
    {
      "cell_type": "code",
      "source": [
        "!wget https://data.hydrosheds.org/file/HydroRIVERS/HydroRIVERS_v10_sa_shp.zip"
      ],
      "metadata": {
        "id": "bNxCcc-0EHDg",
        "colab": {
          "base_uri": "https://localhost:8080/"
        },
        "outputId": "09f427a3-9f07-4ba6-bb4f-5fdd54427c12"
      },
      "execution_count": null,
      "outputs": [
        {
          "output_type": "stream",
          "name": "stdout",
          "text": [
            "--2025-09-12 02:04:36--  https://data.hydrosheds.org/file/HydroRIVERS/HydroRIVERS_v10_sa_shp.zip\n",
            "Resolving data.hydrosheds.org (data.hydrosheds.org)... 172.67.158.28, 104.21.14.61, 2606:4700:3036::ac43:9e1c, ...\n",
            "Connecting to data.hydrosheds.org (data.hydrosheds.org)|172.67.158.28|:443... connected.\n",
            "HTTP request sent, awaiting response... 200 OK\n",
            "Length: 95257204 (91M) [application/zip]\n",
            "Saving to: ‘HydroRIVERS_v10_sa_shp.zip’\n",
            "\n",
            "HydroRIVERS_v10_sa_ 100%[===================>]  90.84M  37.4MB/s    in 2.4s    \n",
            "\n",
            "2025-09-12 02:04:38 (37.4 MB/s) - ‘HydroRIVERS_v10_sa_shp.zip’ saved [95257204/95257204]\n",
            "\n"
          ]
        }
      ]
    },
    {
      "cell_type": "code",
      "source": [
        "!unzip \"/content/drive/MyDrive/Geodatabase/HydroRIVERS_v10_sa_shp.zip\" -d \"/content/drive/MyDrive/Geodatabase\""
      ],
      "metadata": {
        "colab": {
          "base_uri": "https://localhost:8080/"
        },
        "outputId": "a99a4e10-4916-4313-83e2-61ed19beb498",
        "id": "9M6qOSofzR_2"
      },
      "execution_count": null,
      "outputs": [
        {
          "output_type": "stream",
          "name": "stdout",
          "text": [
            "Archive:  /content/drive/MyDrive/Geodatabase/HydroRIVERS_v10_sa_shp.zip\n",
            "  inflating: /content/drive/MyDrive/Geodatabase/HydroRIVERS_TechDoc_v10.pdf  \n",
            "   creating: /content/drive/MyDrive/Geodatabase/HydroRIVERS_v10_sa_shp/\n",
            "  inflating: /content/drive/MyDrive/Geodatabase/HydroRIVERS_v10_sa_shp/HydroRIVERS_v10_sa.dbf  \n",
            "  inflating: /content/drive/MyDrive/Geodatabase/HydroRIVERS_v10_sa_shp/HydroRIVERS_v10_sa.prj  \n",
            "  inflating: /content/drive/MyDrive/Geodatabase/HydroRIVERS_v10_sa_shp/HydroRIVERS_v10_sa.sbn  \n",
            "  inflating: /content/drive/MyDrive/Geodatabase/HydroRIVERS_v10_sa_shp/HydroRIVERS_v10_sa.sbx  \n",
            "  inflating: /content/drive/MyDrive/Geodatabase/HydroRIVERS_v10_sa_shp/HydroRIVERS_v10_sa.shp  \n",
            "  inflating: /content/drive/MyDrive/Geodatabase/HydroRIVERS_v10_sa_shp/HydroRIVERS_v10_sa.shx  \n"
          ]
        }
      ]
    },
    {
      "cell_type": "code",
      "source": [
        "hydroRIVERS = gpd.read_file('/content/drive/MyDrive/Geodatabase/HydroRIVERS_v10_sa_shp/HydroRIVERS_v10_sa.shp')\n",
        "#hydroRIVERS.head()\n",
        "\n",
        "hydroRIVERS.drop(['NEXT_DOWN','MAIN_RIV','DIST_DN_KM','ENDORHEIC'], axis=1, inplace=True)\n",
        "#hydroRIVERS.info()\n",
        "\n",
        "# If you want to display and visualize data\n",
        "#hydroRIVERS.plot(column='LENGTH_KM', figsize=(16,8))\n",
        "\n",
        "#!rm '/content/drive/MyDrive/Geodatabase/HydroRIVERS_v10_sa_shp.zip'\n",
        "#!rm '/content/drive/MyDrive/Geodatabase/HydroRIVERS_TechDoc_v10.pdf'\n",
        "\n",
        "# Export data to Google Drive (.shp)\n",
        "hydroRIVERS_path = '/content/drive/MyDrive/Geodatabase/SA_hydroRIVERS.shp'\n",
        "hydroRIVERS.to_file(hydroRIVERS_path)\n",
        "\n",
        "hydroRIVERS_shp = '/content/drive/MyDrive/Geodatabase/HydroRIVERS_v10_sa_shp/HydroRIVERS_v10_sa'\n",
        "\n",
        "# List of common shapefile extensions\n",
        "extensions = ['.sbx','.sbn','.dbf','.shp','.shx','.prj']\n",
        "\n",
        "for ext in extensions:\n",
        "    file_path = hydroRIVERS_shp + ext\n",
        "    if os.path.exists(file_path):\n",
        "            os.remove(file_path)\n",
        "            print(f\"Deleted: {file_path}\")\n",
        "    else:\n",
        "            print(f\"File not found: {file_path}\")"
      ],
      "metadata": {
        "colab": {
          "base_uri": "https://localhost:8080/"
        },
        "id": "kVTsVLV46VAJ",
        "outputId": "e8f03764-d6ab-4d34-b411-55570f783e77"
      },
      "execution_count": null,
      "outputs": [
        {
          "output_type": "stream",
          "name": "stdout",
          "text": [
            "Deleted: /content/drive/MyDrive/Geodatabase/HydroRIVERS_v10_sa_shp/HydroRIVERS_v10_sa.sbx\n",
            "Deleted: /content/drive/MyDrive/Geodatabase/HydroRIVERS_v10_sa_shp/HydroRIVERS_v10_sa.sbn\n",
            "Deleted: /content/drive/MyDrive/Geodatabase/HydroRIVERS_v10_sa_shp/HydroRIVERS_v10_sa.dbf\n",
            "Deleted: /content/drive/MyDrive/Geodatabase/HydroRIVERS_v10_sa_shp/HydroRIVERS_v10_sa.shp\n",
            "Deleted: /content/drive/MyDrive/Geodatabase/HydroRIVERS_v10_sa_shp/HydroRIVERS_v10_sa.shx\n",
            "Deleted: /content/drive/MyDrive/Geodatabase/HydroRIVERS_v10_sa_shp/HydroRIVERS_v10_sa.prj\n"
          ]
        }
      ]
    },
    {
      "cell_type": "markdown",
      "source": [
        "### 7. HydroLAKES"
      ],
      "metadata": {
        "id": "p46mfSghBu6n"
      }
    },
    {
      "cell_type": "code",
      "source": [
        "!wget https://data.hydrosheds.org/file/hydrolakes/HydroLAKES_polys_v10_shp.zip"
      ],
      "metadata": {
        "id": "Me94xTMFEHvY",
        "colab": {
          "base_uri": "https://localhost:8080/"
        },
        "outputId": "8d8bd58e-113b-4533-87b4-a05a2a008733"
      },
      "execution_count": 18,
      "outputs": [
        {
          "output_type": "stream",
          "name": "stdout",
          "text": [
            "--2025-09-12 16:19:03--  https://data.hydrosheds.org/file/hydrolakes/HydroLAKES_polys_v10_shp.zip\n",
            "Resolving data.hydrosheds.org (data.hydrosheds.org)... 104.21.14.61, 172.67.158.28, 2606:4700:3036::ac43:9e1c, ...\n",
            "Connecting to data.hydrosheds.org (data.hydrosheds.org)|104.21.14.61|:443... connected.\n",
            "HTTP request sent, awaiting response... 200 OK\n",
            "Length: 820295132 (782M) [application/zip]\n",
            "Saving to: ‘HydroLAKES_polys_v10_shp.zip’\n",
            "\n",
            "HydroLAKES_polys_v1 100%[===================>] 782.29M  25.4MB/s    in 26s     \n",
            "\n",
            "2025-09-12 16:19:30 (30.4 MB/s) - ‘HydroLAKES_polys_v10_shp.zip’ saved [820295132/820295132]\n",
            "\n"
          ]
        }
      ]
    },
    {
      "cell_type": "code",
      "source": [
        "!unzip \"/content/drive/MyDrive/Geodatabase/HydroLAKES_polys_v10_shp.zip\" -d \"/content/drive/MyDrive/Geodatabase\""
      ],
      "metadata": {
        "colab": {
          "base_uri": "https://localhost:8080/"
        },
        "outputId": "7784a715-ccbe-462c-8327-0f386ab9825d",
        "id": "Qn8hcfTRzgoE"
      },
      "execution_count": 17,
      "outputs": [
        {
          "output_type": "stream",
          "name": "stdout",
          "text": [
            "unzip:  cannot find or open /content/drive/MyDrive/Geodatabase/HydroLAKES_polys_v10_shp.zip, /content/drive/MyDrive/Geodatabase/HydroLAKES_polys_v10_shp.zip.zip or /content/drive/MyDrive/Geodatabase/HydroLAKES_polys_v10_shp.zip.ZIP.\n"
          ]
        }
      ]
    },
    {
      "cell_type": "code",
      "source": [
        "hydroLAKES = gpd.read_file('/content/drive/MyDrive/Geodatabase/HydroLAKES_polys_v10_shp/HydroLAKES_polys_v10.shp')\n",
        "#hydroLAKES.head()\n",
        "hydroLAKES.drop(['Hylak_id','Lake_name','Continent','Poly_src','Grand_id','Shore_len','Shore_dev','Vol_src','Slope_100','Wshd_area','Pour_long','Pour_lat'], axis=1, inplace=True)\n",
        "#hydroLAKES.info()\n",
        "\n",
        "SACB_SA = gpd.read_file('/content/drive/MyDrive/Geodatabase/SA_Countries.shp')\n",
        "HydroLAKES_Intersect = hydroLAKES.overlay(SACB_SA, how='intersection')\n",
        "HydroLAKES_Intersect.info()"
      ],
      "metadata": {
        "colab": {
          "base_uri": "https://localhost:8080/"
        },
        "outputId": "25f966ab-8151-494f-924f-9265a99636b1",
        "id": "jNScnOyWzgoF"
      },
      "execution_count": null,
      "outputs": [
        {
          "output_type": "stream",
          "name": "stdout",
          "text": [
            "<class 'geopandas.geodataframe.GeoDataFrame'>\n",
            "RangeIndex: 53714 entries, 0 to 53713\n",
            "Data columns (total 11 columns):\n",
            " #   Column     Non-Null Count  Dtype   \n",
            "---  ------     --------------  -----   \n",
            " 0   Country_1  53714 non-null  object  \n",
            " 1   Lake_type  53714 non-null  int32   \n",
            " 2   Lake_area  53714 non-null  float64 \n",
            " 3   Vol_total  53714 non-null  float64 \n",
            " 4   Vol_res    53714 non-null  float64 \n",
            " 5   Depth_avg  53714 non-null  float64 \n",
            " 6   Dis_avg    53714 non-null  float64 \n",
            " 7   Res_time   53714 non-null  float64 \n",
            " 8   Elevation  53714 non-null  int32   \n",
            " 9   Country_2  53714 non-null  object  \n",
            " 10  geometry   53714 non-null  geometry\n",
            "dtypes: float64(6), geometry(1), int32(2), object(2)\n",
            "memory usage: 4.1+ MB\n"
          ]
        }
      ]
    },
    {
      "cell_type": "code",
      "source": [
        "# If you want to display and visualize data\n",
        "#HydroLAKES_Intersect.plot(column='Lake_area', figsize=(16,8))\n",
        "\n",
        "!rm '/content/drive/MyDrive/Geodatabase/HydroLAKES_polys_v10_shp.zip'\n",
        "!rm '/content/drive/MyDrive/Geodatabase/HydroLAKES_TechDoc_v10.pdf'\n",
        "\n",
        "# Export data to Google Drive (.shp)\n",
        "hydroLAKES_path = '/content/drive/MyDrive/Geodatabase/SA_hydroLAKES.shp'\n",
        "HydroLAKES_Intersect.to_file(hydroLAKES_path)\n",
        "\n",
        "hydroLAKES_shp = '/content/drive/MyDrive/Geodatabase/HydroLAKES_polys_v10_shp/HydroLAKES_polys_v10'\n",
        "\n",
        "# List of common shapefile extensions\n",
        "extensions = ['.sbx','.sbn','.dbf','.shp','.shx','.prj']\n",
        "\n",
        "for ext in extensions:\n",
        "    file_path = hydroLAKES_shp + ext\n",
        "    if os.path.exists(file_path):\n",
        "            os.remove(file_path)\n",
        "            print(f\"Deleted: {file_path}\")\n",
        "    else:\n",
        "            print(f\"File not found: {file_path}\")"
      ],
      "metadata": {
        "id": "EykATA1C3RWi",
        "outputId": "2074410d-fdca-47d2-97f3-6916284dd2ab",
        "colab": {
          "base_uri": "https://localhost:8080/"
        }
      },
      "execution_count": null,
      "outputs": [
        {
          "output_type": "stream",
          "name": "stdout",
          "text": [
            "Deleted: /content/drive/MyDrive/Geodatabase/HydroLAKES_polys_v10_shp/HydroLAKES_polys_v10.sbx\n",
            "Deleted: /content/drive/MyDrive/Geodatabase/HydroLAKES_polys_v10_shp/HydroLAKES_polys_v10.sbn\n",
            "Deleted: /content/drive/MyDrive/Geodatabase/HydroLAKES_polys_v10_shp/HydroLAKES_polys_v10.dbf\n",
            "Deleted: /content/drive/MyDrive/Geodatabase/HydroLAKES_polys_v10_shp/HydroLAKES_polys_v10.shp\n",
            "Deleted: /content/drive/MyDrive/Geodatabase/HydroLAKES_polys_v10_shp/HydroLAKES_polys_v10.shx\n",
            "Deleted: /content/drive/MyDrive/Geodatabase/HydroLAKES_polys_v10_shp/HydroLAKES_polys_v10.prj\n"
          ]
        }
      ]
    }
  ]
}