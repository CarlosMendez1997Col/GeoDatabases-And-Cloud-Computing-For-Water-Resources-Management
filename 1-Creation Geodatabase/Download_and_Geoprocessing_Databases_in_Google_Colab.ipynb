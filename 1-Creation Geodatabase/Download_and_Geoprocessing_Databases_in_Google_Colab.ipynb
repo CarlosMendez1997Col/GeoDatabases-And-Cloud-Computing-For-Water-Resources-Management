{
  "nbformat": 4,
  "nbformat_minor": 0,
  "metadata": {
    "colab": {
      "provenance": [],
      "toc_visible": true,
      "include_colab_link": true
    },
    "kernelspec": {
      "name": "python3",
      "display_name": "Python 3"
    },
    "language_info": {
      "name": "python"
    }
  },
  "cells": [
    {
      "cell_type": "markdown",
      "metadata": {
        "id": "view-in-github",
        "colab_type": "text"
      },
      "source": [
        "<a href=\"https://colab.research.google.com/github/CarlosMendez1997Col/GeoDatabases-And-Cloud-Computing-For-Water-Resources-Management/blob/main/1-Creation%20Geodatabase/Download_and_Geoprocessing_Databases_in_Google_Colab.ipynb\" target=\"_parent\"><img src=\"https://colab.research.google.com/assets/colab-badge.svg\" alt=\"Open In Colab\"/></a>"
      ]
    },
    {
      "cell_type": "markdown",
      "source": [
        "# Download and Geoprocessing Databases in Google Colab\n",
        "\n",
        "---\n",
        "\n",
        "> Water Resources Management using PostgreSQL and PgAdmin4\n",
        "\n",
        "> Area of Interest (South America)\n",
        "\n",
        "> Developed by MSc Carlos Mendez\n",
        "\n",
        "MOST TABLES AND DATASETS USED:\n",
        "\n",
        "1. South America Countries and Boundary\n",
        "2. Firt Level Administrative Units (FLAU)\n",
        "3. Second Level Administrative Units (SLAU)\n",
        "4. HydroSHEDS (Conditioned DEM)\n",
        "5. HydroBASINS (Level 1,2,3,4,5,6,7,8,9,10,11 and 12)\n",
        "6. HydroRIVERS\n",
        "7. HydroLAKES\n",
        "8. Global Lakes and Wetlands Database (GLWD)\n",
        "9. HydroWASTE\n",
        "10. Global River Classification (GloRiC)\n",
        "11. Lake TEMP\n",
        "12. Global Power Plant Database (GPPD)\n",
        "\n"
      ],
      "metadata": {
        "id": "jS5REZuqCp7h"
      }
    },
    {
      "cell_type": "markdown",
      "source": [
        "## Install and import ArcGIS API for Python"
      ],
      "metadata": {
        "id": "4TqdzUt3LPmB"
      }
    },
    {
      "cell_type": "code",
      "source": [
        "!pip install arcgis"
      ],
      "metadata": {
        "id": "XALuIv4hCn1y",
        "colab": {
          "base_uri": "https://localhost:8080/"
        },
        "outputId": "b0ac393f-ef36-4f3f-f6c7-2222a9e1036e"
      },
      "execution_count": 1,
      "outputs": [
        {
          "output_type": "stream",
          "name": "stdout",
          "text": [
            "Requirement already satisfied: arcgis in /usr/local/lib/python3.12/dist-packages (2.4.1.3)\n",
            "Requirement already satisfied: pillow in /usr/local/lib/python3.12/dist-packages (from arcgis) (11.3.0)\n",
            "Requirement already satisfied: urllib3<3,>=2.1.0 in /usr/local/lib/python3.12/dist-packages (from arcgis) (2.5.0)\n",
            "Requirement already satisfied: cachetools in /usr/local/lib/python3.12/dist-packages (from arcgis) (5.5.2)\n",
            "Requirement already satisfied: lxml in /usr/local/lib/python3.12/dist-packages (from arcgis) (5.4.0)\n",
            "Requirement already satisfied: cryptography in /usr/local/lib/python3.12/dist-packages (from arcgis) (43.0.3)\n",
            "Requirement already satisfied: pandas<2.3.0,>=2.0.0 in /usr/local/lib/python3.12/dist-packages (from arcgis) (2.2.2)\n",
            "Requirement already satisfied: numpy<2,>=1.21.6 in /usr/local/lib/python3.12/dist-packages (from arcgis) (1.26.4)\n",
            "Requirement already satisfied: matplotlib in /usr/local/lib/python3.12/dist-packages (from arcgis) (3.10.0)\n",
            "Requirement already satisfied: keyring>=23.3.0 in /usr/local/lib/python3.12/dist-packages (from arcgis) (25.6.0)\n",
            "Requirement already satisfied: pylerc in /usr/local/lib/python3.12/dist-packages (from arcgis) (4.0)\n",
            "Requirement already satisfied: ujson>=3 in /usr/local/lib/python3.12/dist-packages (from arcgis) (5.11.0)\n",
            "Requirement already satisfied: truststore>=0.10.0 in /usr/local/lib/python3.12/dist-packages (from arcgis) (0.10.4)\n",
            "Requirement already satisfied: geomet in /usr/local/lib/python3.12/dist-packages (from arcgis) (1.1.0)\n",
            "Requirement already satisfied: requests<3,>=2.32.3 in /usr/local/lib/python3.12/dist-packages (from arcgis) (2.32.4)\n",
            "Requirement already satisfied: requests-oauthlib in /usr/local/lib/python3.12/dist-packages (from arcgis) (2.0.0)\n",
            "Requirement already satisfied: requests_toolbelt in /usr/local/lib/python3.12/dist-packages (from arcgis) (1.0.0)\n",
            "Requirement already satisfied: pyspnego>=0.8.0 in /usr/local/lib/python3.12/dist-packages (from arcgis) (0.12.0)\n",
            "Requirement already satisfied: dask<2025.1.0,>=2024.12.1 in /usr/local/lib/python3.12/dist-packages (from dask[dataframe]<2025.1.0,>=2024.12.1->arcgis) (2024.12.1)\n",
            "Requirement already satisfied: matplotlib-inline in /usr/local/lib/python3.12/dist-packages (from arcgis) (0.1.7)\n",
            "Requirement already satisfied: pyarrow<17,>=16 in /usr/local/lib/python3.12/dist-packages (from arcgis) (16.1.0)\n",
            "Requirement already satisfied: puremagic<2,>=1.15 in /usr/local/lib/python3.12/dist-packages (from arcgis) (1.30)\n",
            "Requirement already satisfied: pydantic<3,>=2.8.2 in /usr/local/lib/python3.12/dist-packages (from arcgis) (2.11.7)\n",
            "Requirement already satisfied: networkx<4,>=3.3 in /usr/local/lib/python3.12/dist-packages (from arcgis) (3.5)\n",
            "Requirement already satisfied: websocket-client<2.0.0,>=1.2.3 in /usr/local/lib/python3.12/dist-packages (from arcgis) (1.8.0)\n",
            "Requirement already satisfied: click>=8.1 in /usr/local/lib/python3.12/dist-packages (from dask<2025.1.0,>=2024.12.1->dask[dataframe]<2025.1.0,>=2024.12.1->arcgis) (8.2.1)\n",
            "Requirement already satisfied: cloudpickle>=3.0.0 in /usr/local/lib/python3.12/dist-packages (from dask<2025.1.0,>=2024.12.1->dask[dataframe]<2025.1.0,>=2024.12.1->arcgis) (3.1.1)\n",
            "Requirement already satisfied: fsspec>=2021.09.0 in /usr/local/lib/python3.12/dist-packages (from dask<2025.1.0,>=2024.12.1->dask[dataframe]<2025.1.0,>=2024.12.1->arcgis) (2025.3.0)\n",
            "Requirement already satisfied: packaging>=20.0 in /usr/local/lib/python3.12/dist-packages (from dask<2025.1.0,>=2024.12.1->dask[dataframe]<2025.1.0,>=2024.12.1->arcgis) (25.0)\n",
            "Requirement already satisfied: partd>=1.4.0 in /usr/local/lib/python3.12/dist-packages (from dask<2025.1.0,>=2024.12.1->dask[dataframe]<2025.1.0,>=2024.12.1->arcgis) (1.4.2)\n",
            "Requirement already satisfied: pyyaml>=5.3.1 in /usr/local/lib/python3.12/dist-packages (from dask<2025.1.0,>=2024.12.1->dask[dataframe]<2025.1.0,>=2024.12.1->arcgis) (6.0.2)\n",
            "Requirement already satisfied: toolz>=0.10.0 in /usr/local/lib/python3.12/dist-packages (from dask<2025.1.0,>=2024.12.1->dask[dataframe]<2025.1.0,>=2024.12.1->arcgis) (0.12.1)\n",
            "Requirement already satisfied: dask-expr<1.2,>=1.1 in /usr/local/lib/python3.12/dist-packages (from dask[dataframe]<2025.1.0,>=2024.12.1->arcgis) (1.1.21)\n",
            "Requirement already satisfied: SecretStorage>=3.2 in /usr/local/lib/python3.12/dist-packages (from keyring>=23.3.0->arcgis) (3.3.3)\n",
            "Requirement already satisfied: jeepney>=0.4.2 in /usr/local/lib/python3.12/dist-packages (from keyring>=23.3.0->arcgis) (0.9.0)\n",
            "Requirement already satisfied: jaraco.classes in /usr/local/lib/python3.12/dist-packages (from keyring>=23.3.0->arcgis) (3.4.0)\n",
            "Requirement already satisfied: jaraco.functools in /usr/local/lib/python3.12/dist-packages (from keyring>=23.3.0->arcgis) (4.3.0)\n",
            "Requirement already satisfied: jaraco.context in /usr/local/lib/python3.12/dist-packages (from keyring>=23.3.0->arcgis) (6.0.1)\n",
            "Requirement already satisfied: python-dateutil>=2.8.2 in /usr/local/lib/python3.12/dist-packages (from pandas<2.3.0,>=2.0.0->arcgis) (2.9.0.post0)\n",
            "Requirement already satisfied: pytz>=2020.1 in /usr/local/lib/python3.12/dist-packages (from pandas<2.3.0,>=2.0.0->arcgis) (2025.2)\n",
            "Requirement already satisfied: tzdata>=2022.7 in /usr/local/lib/python3.12/dist-packages (from pandas<2.3.0,>=2.0.0->arcgis) (2025.2)\n",
            "Requirement already satisfied: annotated-types>=0.6.0 in /usr/local/lib/python3.12/dist-packages (from pydantic<3,>=2.8.2->arcgis) (0.7.0)\n",
            "Requirement already satisfied: pydantic-core==2.33.2 in /usr/local/lib/python3.12/dist-packages (from pydantic<3,>=2.8.2->arcgis) (2.33.2)\n",
            "Requirement already satisfied: typing-extensions>=4.12.2 in /usr/local/lib/python3.12/dist-packages (from pydantic<3,>=2.8.2->arcgis) (4.15.0)\n",
            "Requirement already satisfied: typing-inspection>=0.4.0 in /usr/local/lib/python3.12/dist-packages (from pydantic<3,>=2.8.2->arcgis) (0.4.1)\n",
            "Requirement already satisfied: charset_normalizer<4,>=2 in /usr/local/lib/python3.12/dist-packages (from requests<3,>=2.32.3->arcgis) (3.4.3)\n",
            "Requirement already satisfied: idna<4,>=2.5 in /usr/local/lib/python3.12/dist-packages (from requests<3,>=2.32.3->arcgis) (3.10)\n",
            "Requirement already satisfied: certifi>=2017.4.17 in /usr/local/lib/python3.12/dist-packages (from requests<3,>=2.32.3->arcgis) (2025.8.3)\n",
            "Requirement already satisfied: cffi>=1.12 in /usr/local/lib/python3.12/dist-packages (from cryptography->arcgis) (1.17.1)\n",
            "Requirement already satisfied: contourpy>=1.0.1 in /usr/local/lib/python3.12/dist-packages (from matplotlib->arcgis) (1.3.3)\n",
            "Requirement already satisfied: cycler>=0.10 in /usr/local/lib/python3.12/dist-packages (from matplotlib->arcgis) (0.12.1)\n",
            "Requirement already satisfied: fonttools>=4.22.0 in /usr/local/lib/python3.12/dist-packages (from matplotlib->arcgis) (4.59.2)\n",
            "Requirement already satisfied: kiwisolver>=1.3.1 in /usr/local/lib/python3.12/dist-packages (from matplotlib->arcgis) (1.4.9)\n",
            "Requirement already satisfied: pyparsing>=2.3.1 in /usr/local/lib/python3.12/dist-packages (from matplotlib->arcgis) (3.2.3)\n",
            "Requirement already satisfied: traitlets in /usr/local/lib/python3.12/dist-packages (from matplotlib-inline->arcgis) (5.7.1)\n",
            "Requirement already satisfied: oauthlib>=3.0.0 in /usr/local/lib/python3.12/dist-packages (from requests-oauthlib->arcgis) (3.3.1)\n",
            "Requirement already satisfied: pycparser in /usr/local/lib/python3.12/dist-packages (from cffi>=1.12->cryptography->arcgis) (2.22)\n",
            "Requirement already satisfied: locket in /usr/local/lib/python3.12/dist-packages (from partd>=1.4.0->dask<2025.1.0,>=2024.12.1->dask[dataframe]<2025.1.0,>=2024.12.1->arcgis) (1.0.0)\n",
            "Requirement already satisfied: six>=1.5 in /usr/local/lib/python3.12/dist-packages (from python-dateutil>=2.8.2->pandas<2.3.0,>=2.0.0->arcgis) (1.17.0)\n",
            "Requirement already satisfied: more-itertools in /usr/local/lib/python3.12/dist-packages (from jaraco.classes->keyring>=23.3.0->arcgis) (10.8.0)\n"
          ]
        }
      ]
    },
    {
      "cell_type": "code",
      "source": [
        "import arcgis\n",
        "\n",
        "from google.colab import output\n",
        "output.enable_custom_widget_manager()\n",
        "\n",
        "# connect to GIS\n",
        "from arcgis.gis import GIS"
      ],
      "metadata": {
        "id": "pkA_m181Cn9j"
      },
      "execution_count": 3,
      "outputs": []
    },
    {
      "cell_type": "code",
      "source": [
        "# Prompt user to provide username and password\n",
        "import getpass\n",
        "username = input('Enter username: ')\n",
        "password = getpass.getpass(\"Enter your password: \")\n",
        "gis = GIS(\"https://udistritalfjc.maps.arcgis.com/home\", username, password)"
      ],
      "metadata": {
        "id": "MuNAfzZ1LnKR",
        "outputId": "ba7b0539-8b79-41e0-a936-4a82d57497dc",
        "colab": {
          "base_uri": "https://localhost:8080/"
        }
      },
      "execution_count": 4,
      "outputs": [
        {
          "name": "stdout",
          "output_type": "stream",
          "text": [
            "Enter username: camendezv_UDFJC\n",
            "Enter your password: ··········\n"
          ]
        }
      ]
    },
    {
      "cell_type": "code",
      "source": [],
      "metadata": {
        "id": "TrqKynJJLnNL"
      },
      "execution_count": null,
      "outputs": []
    },
    {
      "cell_type": "code",
      "source": [],
      "metadata": {
        "id": "THF9DViHLnP5"
      },
      "execution_count": null,
      "outputs": []
    },
    {
      "cell_type": "code",
      "source": [],
      "metadata": {
        "id": "mIDmniGzMRHy"
      },
      "execution_count": null,
      "outputs": []
    },
    {
      "cell_type": "code",
      "source": [],
      "metadata": {
        "id": "FColnGFuLnSm"
      },
      "execution_count": null,
      "outputs": []
    },
    {
      "cell_type": "code",
      "source": [],
      "metadata": {
        "id": "VLdV-hCDLnU3"
      },
      "execution_count": null,
      "outputs": []
    },
    {
      "cell_type": "code",
      "source": [],
      "metadata": {
        "id": "x4cRCNsMCn_r"
      },
      "execution_count": null,
      "outputs": []
    }
  ]
}