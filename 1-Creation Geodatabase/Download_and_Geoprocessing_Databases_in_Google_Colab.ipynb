{
  "nbformat": 4,
  "nbformat_minor": 0,
  "metadata": {
    "colab": {
      "provenance": [],
      "toc_visible": true,
      "include_colab_link": true
    },
    "kernelspec": {
      "name": "python3",
      "display_name": "Python 3"
    },
    "language_info": {
      "name": "python"
    }
  },
  "cells": [
    {
      "cell_type": "markdown",
      "metadata": {
        "id": "view-in-github",
        "colab_type": "text"
      },
      "source": [
        "<a href=\"https://colab.research.google.com/github/CarlosMendez1997Col/GeoDatabases-And-Cloud-Computing-For-Water-Resources-Management/blob/main/1-Creation%20Geodatabase/Download_and_Geoprocessing_Databases_in_Google_Colab.ipynb\" target=\"_parent\"><img src=\"https://colab.research.google.com/assets/colab-badge.svg\" alt=\"Open In Colab\"/></a>"
      ]
    },
    {
      "cell_type": "markdown",
      "source": [
        "# Download and Geoprocessing Databases in Google Colab\n",
        "\n",
        "---\n",
        "\n",
        "> Water Resources Management using PostgreSQL and PgAdmin4\n",
        "\n",
        "> Area of Interest (South America)\n",
        "\n",
        "> Developed by MSc Carlos Mendez\n",
        "\n",
        "MOST TABLES AND DATASETS USED:\n",
        "\n",
        "1. South America Countries and Boundary\n",
        "2. First Level Administrative Units (FLAU)\n",
        "3. Second Level Administrative Units (SLAU)\n",
        "4. HydroSHEDS (Conditioned DEM)\n",
        "5. HydroBASINS (Level 1,2,3,4,5,6,7,8,9,10,11 and 12)\n",
        "6. HydroRIVERS\n",
        "7. HydroLAKES\n",
        "8. Global Lakes and Wetlands Database (GLWD)\n",
        "9. HydroWASTE\n",
        "10. Global River Classification (GloRiC)\n",
        "11. Lake TEMP\n",
        "12. Global Power Plant Database (GPPD)\n",
        "\n"
      ],
      "metadata": {
        "id": "jS5REZuqCp7h"
      }
    },
    {
      "cell_type": "markdown",
      "source": [
        "## Install and import ArcGIS API for Python"
      ],
      "metadata": {
        "id": "4TqdzUt3LPmB"
      }
    },
    {
      "cell_type": "code",
      "source": [
        "# If you need to install ArcGIS libraries\n",
        "#!pip install arcgis"
      ],
      "metadata": {
        "id": "XALuIv4hCn1y"
      },
      "execution_count": 34,
      "outputs": []
    },
    {
      "cell_type": "markdown",
      "source": [
        "## Import libraries and packages"
      ],
      "metadata": {
        "id": "VLfsXYyiqS8S"
      }
    },
    {
      "cell_type": "code",
      "source": [
        "import numpy as np\n",
        "import pandas as pd\n",
        "import math\n",
        "import os\n",
        "import time\n",
        "from datetime import datetime as dt"
      ],
      "metadata": {
        "id": "MTWR3vXCqaIc"
      },
      "execution_count": 35,
      "outputs": []
    },
    {
      "cell_type": "code",
      "source": [
        "import arcgis\n",
        "\n",
        "from google.colab import output\n",
        "output.enable_custom_widget_manager()\n",
        "\n",
        "# connect to GIS\n",
        "from arcgis.gis import GIS"
      ],
      "metadata": {
        "id": "pkA_m181Cn9j"
      },
      "execution_count": 36,
      "outputs": []
    },
    {
      "cell_type": "markdown",
      "source": [
        "## Connect and Login in Arcgis Account"
      ],
      "metadata": {
        "id": "K_MNKn06PMR_"
      }
    },
    {
      "cell_type": "code",
      "source": [
        "# Prompt user to provide username and password\n",
        "import getpass\n",
        "username = input('Enter username: ')\n",
        "password = getpass.getpass(\"Enter your password: \")\n",
        "gis = GIS(\"https://udistritalfjc.maps.arcgis.com/home\", username, password)"
      ],
      "metadata": {
        "colab": {
          "base_uri": "https://localhost:8080/"
        },
        "id": "MuNAfzZ1LnKR",
        "outputId": "684f644a-06ca-490d-fb95-5fec5b263c07"
      },
      "execution_count": 37,
      "outputs": [
        {
          "name": "stdout",
          "output_type": "stream",
          "text": [
            "Enter username: Camendezv_UDFJC\n",
            "Enter your password: ··········\n"
          ]
        }
      ]
    },
    {
      "cell_type": "markdown",
      "source": [
        "## Import and extract Databases in your local computer\n",
        "\n",
        "1. South America Countries and Boundary [Url Data](https://github.com/wmgeolab/geoBoundaries/raw/main/releaseData/CGAZ/geoBoundariesCGAZ_ADM0.zip)\n",
        "\n",
        "2. Firt Level Administrative Units (FLAU) [Url Data](https://github.com/wmgeolab/geoBoundaries/raw/main/releaseData/CGAZ/geoBoundariesCGAZ_ADM1.zip)\n",
        "\n",
        "3. Second Level Administrative Units (SLAU) [Url Data](https://github.com/wmgeolab/geoBoundaries/raw/main/releaseData/CGAZ/geoBoundariesCGAZ_ADM2.zip)\n",
        "\n",
        "4. HydroSHEDS (Digital Elevation Model) [Url Data](https://data.hydrosheds.org/file/hydrosheds-v1-dem/hyd_sa_dem_30s.zip)\n",
        "\n",
        "5. HydroBASINS (Level 1,2,3,4,5,6,7,8,9,10,11 and 12) [Url Data](https://data.hydrosheds.org/file/hydrobasins/standard/hybas_sa_lev01-12_v1c.zip)\n",
        "\n",
        "6. HydroRIVERS [Url Data](https://data.hydrosheds.org/file/HydroRIVERS/HydroRIVERS_v10_sa_shp.zip)\n",
        "\n",
        "7. HydroLAKES [Url Data](https://data.hydrosheds.org/file/hydrolakes/HydroLAKES_polys_v10_shp.zip)\n",
        "\n",
        "8. Global Lakes and Wetlands Database (GLWD) [Url Data](https://figshare.com/ndownloader/files/54001748)\n",
        "\n",
        "9. HydroWASTE [Url Data](https://figshare.com/ndownloader/files/31910714)\n",
        "\n",
        "10. Global River Classification (GloRiC) [Url Data](https://data.hydrosheds.org/file/hydrosheds-associated/gloric/GloRiC_v10_shapefile.zip)\n",
        "\n",
        "11. Lake TEMP [Url Data](https://figshare.com/ndownloader/files/46397785)\n",
        "\n",
        "12. Global Power Plant Database (GPPD) [Url Data](https://datasets.wri.org/private-admin/dataset/53623dfd-3df6-4f15-a091-67457cdb571f/resource/66bcdacc-3d0e-46ad-9271-a5a76b1853d2/download/globalpowerplantdatabasev130.zip)"
      ],
      "metadata": {
        "id": "rOwlIqkzPVLB"
      }
    },
    {
      "cell_type": "markdown",
      "source": [
        "### Connect to Google Drive"
      ],
      "metadata": {
        "id": "ekOEKL_GpGvc"
      }
    },
    {
      "cell_type": "code",
      "source": [
        "import os\n",
        "os.makedirs('/content', exist_ok=True) # Create the parent directory if it doesn't exist\n",
        "\n",
        "from google.colab import drive\n",
        "drive.mount('/content/drive')"
      ],
      "metadata": {
        "id": "K9CYmNhAvobD",
        "colab": {
          "base_uri": "https://localhost:8080/"
        },
        "outputId": "15cce48b-69ee-4af7-bf4d-d87331ae9d90"
      },
      "execution_count": 51,
      "outputs": [
        {
          "output_type": "stream",
          "name": "stdout",
          "text": [
            "Drive already mounted at /content/drive; to attempt to forcibly remount, call drive.mount(\"/content/drive\", force_remount=True).\n"
          ]
        }
      ]
    },
    {
      "cell_type": "code",
      "source": [
        "# Set Directory or WorkSpace\n",
        "%cd /content/drive/MyDrive/Geodatabase"
      ],
      "metadata": {
        "id": "kfn6S3QhrQig",
        "outputId": "a5c3c035-f94e-4df0-d612-2063328ebe57",
        "colab": {
          "base_uri": "https://localhost:8080/"
        }
      },
      "execution_count": 53,
      "outputs": [
        {
          "output_type": "stream",
          "name": "stdout",
          "text": [
            "/content/drive/MyDrive/Geodatabase\n"
          ]
        }
      ]
    },
    {
      "cell_type": "markdown",
      "source": [
        "### 1. South America Countries and Boundary"
      ],
      "metadata": {
        "id": "zqOmhRjQBdZT"
      }
    },
    {
      "cell_type": "code",
      "source": [
        "!wget https://github.com/wmgeolab/geoBoundaries/raw/main/releaseData/CGAZ/geoBoundariesCGAZ_ADM0.zip"
      ],
      "metadata": {
        "id": "urnbsPHEsJDi",
        "outputId": "af8a5d12-dd9c-4dc6-ffbc-4178f763c038",
        "colab": {
          "base_uri": "https://localhost:8080/"
        }
      },
      "execution_count": 61,
      "outputs": [
        {
          "output_type": "stream",
          "name": "stdout",
          "text": [
            "--2025-09-09 01:10:52--  https://github.com/wmgeolab/geoBoundaries/raw/main/releaseData/CGAZ/geoBoundariesCGAZ_ADM0.zip\n",
            "Resolving github.com (github.com)... 140.82.113.3\n",
            "Connecting to github.com (github.com)|140.82.113.3|:443... connected.\n",
            "HTTP request sent, awaiting response... 302 Found\n",
            "Location: https://media.githubusercontent.com/media/wmgeolab/geoBoundaries/main/releaseData/CGAZ/geoBoundariesCGAZ_ADM0.zip [following]\n",
            "--2025-09-09 01:10:52--  https://media.githubusercontent.com/media/wmgeolab/geoBoundaries/main/releaseData/CGAZ/geoBoundariesCGAZ_ADM0.zip\n",
            "Resolving media.githubusercontent.com (media.githubusercontent.com)... 185.199.108.133, 185.199.109.133, 185.199.110.133, ...\n",
            "Connecting to media.githubusercontent.com (media.githubusercontent.com)|185.199.108.133|:443... connected.\n",
            "HTTP request sent, awaiting response... 200 OK\n",
            "Length: 103997008 (99M) [application/zip]\n",
            "Saving to: ‘geoBoundariesCGAZ_ADM0.zip’\n",
            "\n",
            "geoBoundariesCGAZ_A 100%[===================>]  99.18M  38.5MB/s    in 2.6s    \n",
            "\n",
            "2025-09-09 01:10:55 (38.5 MB/s) - ‘geoBoundariesCGAZ_ADM0.zip’ saved [103997008/103997008]\n",
            "\n"
          ]
        }
      ]
    },
    {
      "cell_type": "code",
      "source": [
        "!unzip geoBoundariesCGAZ_ADM0.zip -d /content/drive/MyDrive/Geodatabase"
      ],
      "metadata": {
        "colab": {
          "base_uri": "https://localhost:8080/"
        },
        "id": "i7XsP3TyAE4A",
        "outputId": "b594e7ad-7313-4a70-a258-e1d60f2fd779"
      },
      "execution_count": 62,
      "outputs": [
        {
          "output_type": "stream",
          "name": "stdout",
          "text": [
            "Archive:  geoBoundariesCGAZ_ADM0.zip\n",
            "  inflating: /content/drive/MyDrive/Geodatabase/geoBoundariesCGAZ_ADM0.shp  \n",
            "  inflating: /content/drive/MyDrive/Geodatabase/geoBoundariesCGAZ_ADM0.shx  \n",
            "  inflating: /content/drive/MyDrive/Geodatabase/geoBoundariesCGAZ_ADM0.dbf  \n",
            "  inflating: /content/drive/MyDrive/Geodatabase/geoBoundariesCGAZ_ADM0.prj  \n"
          ]
        }
      ]
    },
    {
      "cell_type": "markdown",
      "source": [
        "### 2. First Level Administrative Units (FLAU)"
      ],
      "metadata": {
        "id": "VEbSMBF8Bur3"
      }
    },
    {
      "cell_type": "code",
      "source": [],
      "metadata": {
        "id": "YLe9TANPCBKz"
      },
      "execution_count": null,
      "outputs": []
    },
    {
      "cell_type": "code",
      "source": [],
      "metadata": {
        "id": "QEV1tX9oCBSg"
      },
      "execution_count": null,
      "outputs": []
    },
    {
      "cell_type": "markdown",
      "source": [
        "### 3. Second Level Administrative Units (SLAU)"
      ],
      "metadata": {
        "id": "wJV1pj_FBuvO"
      }
    },
    {
      "cell_type": "code",
      "source": [],
      "metadata": {
        "id": "hXNIOFyiCS8-"
      },
      "execution_count": null,
      "outputs": []
    },
    {
      "cell_type": "code",
      "source": [],
      "metadata": {
        "id": "riUlYpD2CS_n"
      },
      "execution_count": null,
      "outputs": []
    },
    {
      "cell_type": "markdown",
      "source": [
        "### 4. HydroSHEDS (Digital Elevation Model)"
      ],
      "metadata": {
        "id": "hukK-mGmBuyU"
      }
    },
    {
      "cell_type": "code",
      "source": [],
      "metadata": {
        "id": "q2H0oKAwCTyS"
      },
      "execution_count": null,
      "outputs": []
    },
    {
      "cell_type": "code",
      "source": [],
      "metadata": {
        "id": "FDrYrNWUCT0z"
      },
      "execution_count": null,
      "outputs": []
    },
    {
      "cell_type": "markdown",
      "source": [
        "### 5. HydroBASINS (Level 1 to 12)"
      ],
      "metadata": {
        "id": "h7r0VegfBu1O"
      }
    },
    {
      "cell_type": "code",
      "source": [],
      "metadata": {
        "id": "Lr3NMAcHEGOT"
      },
      "execution_count": null,
      "outputs": []
    },
    {
      "cell_type": "code",
      "source": [],
      "metadata": {
        "id": "Qb1wJvQdEGTD"
      },
      "execution_count": null,
      "outputs": []
    },
    {
      "cell_type": "markdown",
      "source": [
        "### 6. HydroRIVERS"
      ],
      "metadata": {
        "id": "RdDqxedsBu4B"
      }
    },
    {
      "cell_type": "code",
      "source": [],
      "metadata": {
        "id": "bNxCcc-0EHDg"
      },
      "execution_count": null,
      "outputs": []
    },
    {
      "cell_type": "code",
      "source": [],
      "metadata": {
        "id": "xEYL2QyEEHGG"
      },
      "execution_count": null,
      "outputs": []
    },
    {
      "cell_type": "markdown",
      "source": [
        "### 7. HydroLAKES"
      ],
      "metadata": {
        "id": "p46mfSghBu6n"
      }
    },
    {
      "cell_type": "code",
      "source": [],
      "metadata": {
        "id": "Me94xTMFEHvY"
      },
      "execution_count": null,
      "outputs": []
    },
    {
      "cell_type": "code",
      "source": [],
      "metadata": {
        "id": "6xyRaNeQEHyQ"
      },
      "execution_count": null,
      "outputs": []
    },
    {
      "cell_type": "markdown",
      "source": [
        "### 8. Global Lakes and Wetlands Database (GLWD)"
      ],
      "metadata": {
        "id": "OGuvfX2-Bu8O"
      }
    },
    {
      "cell_type": "code",
      "source": [],
      "metadata": {
        "id": "bvD7IFSVEJDI"
      },
      "execution_count": null,
      "outputs": []
    },
    {
      "cell_type": "code",
      "source": [],
      "metadata": {
        "id": "X90U8b2MEJFn"
      },
      "execution_count": null,
      "outputs": []
    },
    {
      "cell_type": "markdown",
      "source": [
        "### 9. HydroWASTE"
      ],
      "metadata": {
        "id": "wgc6l_OKDmAw"
      }
    },
    {
      "cell_type": "code",
      "source": [],
      "metadata": {
        "id": "dPCtT0hGEJte"
      },
      "execution_count": null,
      "outputs": []
    },
    {
      "cell_type": "code",
      "source": [],
      "metadata": {
        "id": "zVAIXjaHEJwK"
      },
      "execution_count": null,
      "outputs": []
    },
    {
      "cell_type": "markdown",
      "source": [
        "### 10. Global River Classification (GloRiC)"
      ],
      "metadata": {
        "id": "UMwlCTqpDmDe"
      }
    },
    {
      "cell_type": "code",
      "source": [],
      "metadata": {
        "id": "AvMAFJMYEKYw"
      },
      "execution_count": null,
      "outputs": []
    },
    {
      "cell_type": "code",
      "source": [],
      "metadata": {
        "id": "a-rCFzQMEKbB"
      },
      "execution_count": null,
      "outputs": []
    },
    {
      "cell_type": "markdown",
      "source": [
        "### 11. LakeTEMP"
      ],
      "metadata": {
        "id": "MCdS2qtUDmFy"
      }
    },
    {
      "cell_type": "code",
      "source": [],
      "metadata": {
        "id": "vwQSYSjZELhu"
      },
      "execution_count": null,
      "outputs": []
    },
    {
      "cell_type": "code",
      "source": [],
      "metadata": {
        "id": "iv2Y5OkzELkM"
      },
      "execution_count": null,
      "outputs": []
    },
    {
      "cell_type": "markdown",
      "source": [
        "### 12. Global Power Plant Database (GPPD)"
      ],
      "metadata": {
        "id": "qoNm6IpFBu--"
      }
    },
    {
      "cell_type": "code",
      "source": [],
      "metadata": {
        "id": "fg3ZW-VHEMVX"
      },
      "execution_count": null,
      "outputs": []
    },
    {
      "cell_type": "code",
      "source": [],
      "metadata": {
        "id": "ef5ncpqjEMYM"
      },
      "execution_count": null,
      "outputs": []
    },
    {
      "cell_type": "code",
      "source": [
        "!ls"
      ],
      "metadata": {
        "id": "_I85MMh3tkV-",
        "outputId": "6b137b44-fc7f-4843-d4fb-c12dd60da81f",
        "colab": {
          "base_uri": "https://localhost:8080/"
        }
      },
      "execution_count": 59,
      "outputs": [
        {
          "output_type": "stream",
          "name": "stdout",
          "text": [
            "geoBoundariesCGAZ_ADM0.zip\n"
          ]
        }
      ]
    },
    {
      "cell_type": "code",
      "source": [
        "!rm -r /content/"
      ],
      "metadata": {
        "id": "j1xUECOLu-tu"
      },
      "execution_count": null,
      "outputs": []
    },
    {
      "cell_type": "code",
      "source": [
        "\n",
        "\n",
        "\n",
        "\n",
        "https://github.com/wmgeolab/geoBoundaries/raw/main/releaseData/CGAZ/geoBoundariesCGAZ_ADM1.zip\n",
        "\n",
        "\n",
        "https://github.com/wmgeolab/geoBoundaries/raw/main/releaseData/CGAZ/geoBoundariesCGAZ_ADM2.zip\n",
        "\n",
        "\n",
        "https://data.hydrosheds.org/file/hydrosheds-v1-dem/hyd_sa_dem_30s.zip\n",
        "\n",
        "\n",
        "https://data.hydrosheds.org/file/hydrobasins/standard/hybas_sa_lev01-12_v1c.zip\n",
        "\n",
        "\n",
        "https://data.hydrosheds.org/file/HydroRIVERS/HydroRIVERS_v10_sa_shp.zip\n",
        "\n",
        "\n",
        "https://data.hydrosheds.org/file/hydrolakes/HydroLAKES_polys_v10_shp.zip\n",
        "\n",
        "\n",
        "https://figshare.com/ndownloader/files/54001748\n",
        "\n",
        "\n",
        "https://figshare.com/ndownloader/files/31910714\n",
        "\n",
        "\n",
        "https://data.hydrosheds.org/file/hydrosheds-associated/gloric/GloRiC_v10_shapefile.zip\n",
        "\n",
        "\n",
        "https://figshare.com/ndownloader/files/46397785\n",
        "\n",
        "\n",
        "https://datasets.wri.org/private-admin/dataset/53623dfd-3df6-4f15-a091-67457cdb571f/resource/66bcdacc-3d0e-46ad-9271-a5a76b1853d2/download/globalpowerplantdatabasev130.zip\n",
        "\n",
        "\n",
        "!wget your_external_url_to_zip_file.zip"
      ],
      "metadata": {
        "id": "TrqKynJJLnNL"
      },
      "execution_count": null,
      "outputs": []
    },
    {
      "cell_type": "code",
      "source": [],
      "metadata": {
        "id": "THF9DViHLnP5"
      },
      "execution_count": null,
      "outputs": []
    },
    {
      "cell_type": "code",
      "source": [],
      "metadata": {
        "id": "mIDmniGzMRHy"
      },
      "execution_count": null,
      "outputs": []
    },
    {
      "cell_type": "code",
      "source": [],
      "metadata": {
        "id": "FColnGFuLnSm"
      },
      "execution_count": null,
      "outputs": []
    },
    {
      "cell_type": "code",
      "source": [],
      "metadata": {
        "id": "VLdV-hCDLnU3"
      },
      "execution_count": null,
      "outputs": []
    },
    {
      "cell_type": "code",
      "source": [],
      "metadata": {
        "id": "x4cRCNsMCn_r"
      },
      "execution_count": null,
      "outputs": []
    }
  ]
}