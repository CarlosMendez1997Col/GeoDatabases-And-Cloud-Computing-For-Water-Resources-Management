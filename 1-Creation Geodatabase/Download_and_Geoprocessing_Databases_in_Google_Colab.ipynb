{
  "nbformat": 4,
  "nbformat_minor": 0,
  "metadata": {
    "colab": {
      "provenance": []
    },
    "kernelspec": {
      "name": "python3",
      "display_name": "Python 3"
    },
    "language_info": {
      "name": "python"
    }
  },
  "cells": [
    {
      "cell_type": "markdown",
      "source": [
        "# Download and Geoprocessing Databases in Google Colab"
      ],
      "metadata": {
        "id": "jS5REZuqCp7h"
      }
    },
    {
      "cell_type": "markdown",
      "source": [],
      "metadata": {
        "id": "FfAiJd6SCo-L"
      }
    },
    {
      "cell_type": "code",
      "source": [],
      "metadata": {
        "id": "XALuIv4hCn1y"
      },
      "execution_count": null,
      "outputs": []
    },
    {
      "cell_type": "code",
      "source": [],
      "metadata": {
        "id": "pkA_m181Cn9j"
      },
      "execution_count": null,
      "outputs": []
    },
    {
      "cell_type": "code",
      "source": [],
      "metadata": {
        "id": "x4cRCNsMCn_r"
      },
      "execution_count": null,
      "outputs": []
    }
  ]
}